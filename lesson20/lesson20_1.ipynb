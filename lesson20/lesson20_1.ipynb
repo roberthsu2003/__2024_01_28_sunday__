{
 "cells": [
  {
   "cell_type": "markdown",
   "metadata": {},
   "source": [
    "## 資料的組合\n",
    "- pandas.merge()\n",
    "- pandas.concat()"
   ]
  },
  {
   "cell_type": "code",
   "execution_count": null,
   "metadata": {},
   "outputs": [],
   "source": [
    "import pandas as pd\n",
    "df1 = pd.DataFrame({'key':['b', 'b', 'a', 'c', 'a', 'a', 'b'],\n",
    "                   'data1':range(7)})\n",
    "\n",
    "df2 = pd.DataFrame({'key':['a', 'b', 'd'],\n",
    "                   'data2':range(3)})\n",
    "\n",
    "display(df1)\n",
    "display(df2)"
   ]
  },
  {
   "cell_type": "code",
   "execution_count": null,
   "metadata": {},
   "outputs": [],
   "source": [
    "pd.merge(df1,df2)"
   ]
  },
  {
   "cell_type": "code",
   "execution_count": null,
   "metadata": {},
   "outputs": [],
   "source": [
    "pd.merge(df1,df2,how='left')"
   ]
  },
  {
   "cell_type": "code",
   "execution_count": null,
   "metadata": {},
   "outputs": [],
   "source": [
    "import os\n",
    "file_names:list[str] = os.listdir('data')\n",
    "abs_paths:list[str] = []\n",
    "for name in file_names:\n",
    "    if '每日各站' in name :\n",
    "        print(os.path.abspath(f'data/{name}'))\n",
    "        abs_paths.append(os.path.abspath(f'data/{name}'))"
   ]
  },
  {
   "cell_type": "code",
   "execution_count": null,
   "metadata": {},
   "outputs": [],
   "source": [
    "for path in abs_paths:\n",
    "    dataFrame = pd.read_csv(path)"
   ]
  },
  {
   "cell_type": "code",
   "execution_count": null,
   "metadata": {},
   "outputs": [],
   "source": [
    "dataFrame_list = [pd.read_csv(path) for path in abs_paths]\n",
    "df1 = pd.concat(dataFrame_list)\n",
    "df1.info()\n",
    "df1\n"
   ]
  },
  {
   "cell_type": "code",
   "execution_count": null,
   "metadata": {},
   "outputs": [],
   "source": [
    "import requests\n",
    "from requests import Response\n",
    "path = 'https://ods.railway.gov.tw/tra-ods-web/ods/download/dataResource/0518b833e8964d53bfea3f7691aea0ee'\n",
    "\n",
    "response:Response = requests.get(path)\n",
    "df2 = pd.DataFrame(response.json())\n",
    "\n"
   ]
  },
  {
   "cell_type": "code",
   "execution_count": null,
   "metadata": {},
   "outputs": [],
   "source": [
    "\n",
    "df2['stationCode'] = df2['stationCode'].astype(int)\n",
    "df2.info()\n",
    "\n",
    "df3 = pd.merge(df1,df2,how='left',left_on='staCode',right_on='stationCode')\n",
    "df3"
   ]
  },
  {
   "cell_type": "code",
   "execution_count": null,
   "metadata": {},
   "outputs": [],
   "source": [
    "df3.info()\n",
    "df4 = df3.reindex(columns=['trnOpDate','name','gateInComingCnt','gateOutGoingCnt'])\n",
    "df4.columns = ['日期','站名','進站','出站']\n",
    "df4"
   ]
  },
  {
   "cell_type": "code",
   "execution_count": null,
   "metadata": {},
   "outputs": [],
   "source": [
    "df4.info()\n",
    "df4['日期'] = pd.to_datetime(df4['日期'].astype(str))"
   ]
  },
  {
   "cell_type": "code",
   "execution_count": null,
   "metadata": {},
   "outputs": [],
   "source": [
    "df4.info()\n",
    "df5 = df4.sort_values(by=['日期'])\n",
    "df5"
   ]
  },
  {
   "cell_type": "code",
   "execution_count": null,
   "metadata": {},
   "outputs": [],
   "source": [
    "df6 = df5.set_index('日期')\n",
    "df6"
   ]
  },
  {
   "cell_type": "code",
   "execution_count": null,
   "metadata": {},
   "outputs": [],
   "source": [
    "#搜尋\n",
    "df6.loc['2021'].query('站名==\"基隆\"')"
   ]
  },
  {
   "cell_type": "code",
   "execution_count": null,
   "metadata": {},
   "outputs": [],
   "source": [
    "df7 = df6.reset_index()\n",
    "df7"
   ]
  },
  {
   "cell_type": "code",
   "execution_count": 60,
   "metadata": {},
   "outputs": [
    {
     "data": {
      "text/html": [
       "<div>\n",
       "<style scoped>\n",
       "    .dataframe tbody tr th:only-of-type {\n",
       "        vertical-align: middle;\n",
       "    }\n",
       "\n",
       "    .dataframe tbody tr th {\n",
       "        vertical-align: top;\n",
       "    }\n",
       "\n",
       "    .dataframe thead th {\n",
       "        text-align: right;\n",
       "    }\n",
       "</style>\n",
       "<table border=\"1\" class=\"dataframe\">\n",
       "  <thead>\n",
       "    <tr style=\"text-align: right;\">\n",
       "      <th></th>\n",
       "      <th></th>\n",
       "      <th>進站</th>\n",
       "      <th>出站</th>\n",
       "    </tr>\n",
       "    <tr>\n",
       "      <th>日期</th>\n",
       "      <th>站名</th>\n",
       "      <th></th>\n",
       "      <th></th>\n",
       "    </tr>\n",
       "  </thead>\n",
       "  <tbody>\n",
       "    <tr>\n",
       "      <th rowspan=\"5\" valign=\"top\">2019</th>\n",
       "      <th>七堵</th>\n",
       "      <td>1512951</td>\n",
       "      <td>1560506</td>\n",
       "    </tr>\n",
       "    <tr>\n",
       "      <th>三坑</th>\n",
       "      <td>342775</td>\n",
       "      <td>347841</td>\n",
       "    </tr>\n",
       "    <tr>\n",
       "      <th>三塊厝</th>\n",
       "      <td>105842</td>\n",
       "      <td>111863</td>\n",
       "    </tr>\n",
       "    <tr>\n",
       "      <th>三姓橋</th>\n",
       "      <td>288098</td>\n",
       "      <td>260777</td>\n",
       "    </tr>\n",
       "    <tr>\n",
       "      <th>三民</th>\n",
       "      <td>2435</td>\n",
       "      <td>2994</td>\n",
       "    </tr>\n",
       "    <tr>\n",
       "      <th>...</th>\n",
       "      <th>...</th>\n",
       "      <td>...</td>\n",
       "      <td>...</td>\n",
       "    </tr>\n",
       "    <tr>\n",
       "      <th rowspan=\"5\" valign=\"top\">2023</th>\n",
       "      <th>鼓山</th>\n",
       "      <td>165055</td>\n",
       "      <td>168011</td>\n",
       "    </tr>\n",
       "    <tr>\n",
       "      <th>龍井</th>\n",
       "      <td>155439</td>\n",
       "      <td>157385</td>\n",
       "    </tr>\n",
       "    <tr>\n",
       "      <th>龍泉</th>\n",
       "      <td>6263</td>\n",
       "      <td>8246</td>\n",
       "    </tr>\n",
       "    <tr>\n",
       "      <th>龍港</th>\n",
       "      <td>8662</td>\n",
       "      <td>9633</td>\n",
       "    </tr>\n",
       "    <tr>\n",
       "      <th>龜山</th>\n",
       "      <td>29966</td>\n",
       "      <td>29613</td>\n",
       "    </tr>\n",
       "  </tbody>\n",
       "</table>\n",
       "<p>1198 rows × 2 columns</p>\n",
       "</div>"
      ],
      "text/plain": [
       "               進站       出站\n",
       "日期   站名                   \n",
       "2019 七堵   1512951  1560506\n",
       "     三坑    342775   347841\n",
       "     三塊厝   105842   111863\n",
       "     三姓橋   288098   260777\n",
       "     三民      2435     2994\n",
       "...           ...      ...\n",
       "2023 鼓山    165055   168011\n",
       "     龍井    155439   157385\n",
       "     龍泉      6263     8246\n",
       "     龍港      8662     9633\n",
       "     龜山     29966    29613\n",
       "\n",
       "[1198 rows x 2 columns]"
      ]
     },
     "execution_count": 60,
     "metadata": {},
     "output_type": "execute_result"
    }
   ],
   "source": [
    "df7.groupby(by=[df7['日期'].dt.year,'站名'])[['進站','出站']].sum()"
   ]
  }
 ],
 "metadata": {
  "kernelspec": {
   "display_name": "Python 3",
   "language": "python",
   "name": "python3"
  },
  "language_info": {
   "codemirror_mode": {
    "name": "ipython",
    "version": 3
   },
   "file_extension": ".py",
   "mimetype": "text/x-python",
   "name": "python",
   "nbconvert_exporter": "python",
   "pygments_lexer": "ipython3",
   "version": "3.10.13"
  }
 },
 "nbformat": 4,
 "nbformat_minor": 2
}
