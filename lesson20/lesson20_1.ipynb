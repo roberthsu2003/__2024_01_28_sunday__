{
 "cells": [
  {
   "cell_type": "markdown",
   "metadata": {},
   "source": [
    "## 資料的組合\n",
    "- pandas.merge()\n",
    "- pandas.concat()"
   ]
  },
  {
   "cell_type": "code",
   "execution_count": null,
   "metadata": {},
   "outputs": [],
   "source": [
    "import pandas as pd\n",
    "df1 = pd.DataFrame({'key':['b', 'b', 'a', 'c', 'a', 'a', 'b'],\n",
    "                   'data1':range(7)})\n",
    "\n",
    "df2 = pd.DataFrame({'key':['a', 'b', 'd'],\n",
    "                   'data2':range(3)})\n",
    "\n",
    "display(df1)\n",
    "display(df2)"
   ]
  },
  {
   "cell_type": "code",
   "execution_count": null,
   "metadata": {},
   "outputs": [],
   "source": [
    "pd.merge(df1,df2)"
   ]
  },
  {
   "cell_type": "code",
   "execution_count": null,
   "metadata": {},
   "outputs": [],
   "source": [
    "pd.merge(df1,df2,how='left')"
   ]
  },
  {
   "cell_type": "code",
   "execution_count": null,
   "metadata": {},
   "outputs": [],
   "source": [
    "import os\n",
    "file_names:list[str] = os.listdir('data')\n",
    "abs_paths:list[str] = []\n",
    "for name in file_names:\n",
    "    if '每日各站' in name :\n",
    "        print(os.path.abspath(f'data/{name}'))\n",
    "        abs_paths.append(os.path.abspath(f'data/{name}'))"
   ]
  },
  {
   "cell_type": "code",
   "execution_count": null,
   "metadata": {},
   "outputs": [],
   "source": [
    "for path in abs_paths:\n",
    "    dataFrame = pd.read_csv(path)"
   ]
  },
  {
   "cell_type": "code",
   "execution_count": null,
   "metadata": {},
   "outputs": [],
   "source": [
    "dataFrame_list = [pd.read_csv(path) for path in abs_paths]\n",
    "df1 = pd.concat(dataFrame_list)\n",
    "df1.info()\n",
    "df1\n"
   ]
  },
  {
   "cell_type": "code",
   "execution_count": null,
   "metadata": {},
   "outputs": [],
   "source": [
    "import requests\n",
    "from requests import Response\n",
    "path = 'https://ods.railway.gov.tw/tra-ods-web/ods/download/dataResource/0518b833e8964d53bfea3f7691aea0ee'\n",
    "\n",
    "response:Response = requests.get(path)\n",
    "df2 = pd.DataFrame(response.json())\n",
    "\n"
   ]
  },
  {
   "cell_type": "code",
   "execution_count": null,
   "metadata": {},
   "outputs": [],
   "source": [
    "\n",
    "df2['stationCode'] = df2['stationCode'].astype(int)\n",
    "df2.info()\n",
    "\n",
    "df3 = pd.merge(df1,df2,how='left',left_on='staCode',right_on='stationCode')\n",
    "df3"
   ]
  },
  {
   "cell_type": "code",
   "execution_count": null,
   "metadata": {},
   "outputs": [],
   "source": [
    "df3.info()\n",
    "df4 = df3.reindex(columns=['trnOpDate','name','gateInComingCnt','gateOutGoingCnt'])\n",
    "df4.columns = ['日期','站名','進站','出站']\n",
    "df4"
   ]
  },
  {
   "cell_type": "code",
   "execution_count": null,
   "metadata": {},
   "outputs": [],
   "source": [
    "df4.info()\n",
    "df4['日期'] = pd.to_datetime(df4['日期'].astype(str))"
   ]
  },
  {
   "cell_type": "code",
   "execution_count": null,
   "metadata": {},
   "outputs": [],
   "source": [
    "df4.info()\n",
    "df5 = df4.sort_values(by=['日期'])\n",
    "df5"
   ]
  },
  {
   "cell_type": "code",
   "execution_count": null,
   "metadata": {},
   "outputs": [],
   "source": [
    "df6 = df5.set_index('日期')\n",
    "df6"
   ]
  },
  {
   "cell_type": "code",
   "execution_count": null,
   "metadata": {},
   "outputs": [],
   "source": [
    "#搜尋\n",
    "df6.loc['2021'].query('站名==\"基隆\"')"
   ]
  },
  {
   "cell_type": "code",
   "execution_count": null,
   "metadata": {},
   "outputs": [],
   "source": [
    "df7 = df6.reset_index()\n",
    "df7"
   ]
  },
  {
   "cell_type": "code",
   "execution_count": 61,
   "metadata": {},
   "outputs": [],
   "source": [
    "df8 = df7.groupby(by=[df7['日期'].dt.year,'站名'])[['進站','出站']].sum()"
   ]
  },
  {
   "cell_type": "code",
   "execution_count": 66,
   "metadata": {},
   "outputs": [],
   "source": [
    "df8.columns.name = '進出'"
   ]
  },
  {
   "cell_type": "code",
   "execution_count": 68,
   "metadata": {},
   "outputs": [
    {
     "data": {
      "text/html": [
       "<div>\n",
       "<style scoped>\n",
       "    .dataframe tbody tr th:only-of-type {\n",
       "        vertical-align: middle;\n",
       "    }\n",
       "\n",
       "    .dataframe tbody tr th {\n",
       "        vertical-align: top;\n",
       "    }\n",
       "\n",
       "    .dataframe thead tr th {\n",
       "        text-align: left;\n",
       "    }\n",
       "\n",
       "    .dataframe thead tr:last-of-type th {\n",
       "        text-align: right;\n",
       "    }\n",
       "</style>\n",
       "<table border=\"1\" class=\"dataframe\">\n",
       "  <thead>\n",
       "    <tr>\n",
       "      <th>日期</th>\n",
       "      <th colspan=\"2\" halign=\"left\">2019</th>\n",
       "      <th colspan=\"2\" halign=\"left\">2020</th>\n",
       "      <th colspan=\"2\" halign=\"left\">2021</th>\n",
       "      <th colspan=\"2\" halign=\"left\">2022</th>\n",
       "      <th colspan=\"2\" halign=\"left\">2023</th>\n",
       "    </tr>\n",
       "    <tr>\n",
       "      <th>進出</th>\n",
       "      <th>進站</th>\n",
       "      <th>出站</th>\n",
       "      <th>進站</th>\n",
       "      <th>出站</th>\n",
       "      <th>進站</th>\n",
       "      <th>出站</th>\n",
       "      <th>進站</th>\n",
       "      <th>出站</th>\n",
       "      <th>進站</th>\n",
       "      <th>出站</th>\n",
       "    </tr>\n",
       "    <tr>\n",
       "      <th>站名</th>\n",
       "      <th></th>\n",
       "      <th></th>\n",
       "      <th></th>\n",
       "      <th></th>\n",
       "      <th></th>\n",
       "      <th></th>\n",
       "      <th></th>\n",
       "      <th></th>\n",
       "      <th></th>\n",
       "      <th></th>\n",
       "    </tr>\n",
       "  </thead>\n",
       "  <tbody>\n",
       "    <tr>\n",
       "      <th>七堵</th>\n",
       "      <td>1512951.0</td>\n",
       "      <td>1560506.0</td>\n",
       "      <td>2023475.0</td>\n",
       "      <td>2055442.0</td>\n",
       "      <td>1619233.0</td>\n",
       "      <td>1594220.0</td>\n",
       "      <td>1764417.0</td>\n",
       "      <td>1776557.0</td>\n",
       "      <td>2124487.0</td>\n",
       "      <td>2128604.0</td>\n",
       "    </tr>\n",
       "    <tr>\n",
       "      <th>三坑</th>\n",
       "      <td>342775.0</td>\n",
       "      <td>347841.0</td>\n",
       "      <td>457042.0</td>\n",
       "      <td>466250.0</td>\n",
       "      <td>372260.0</td>\n",
       "      <td>383427.0</td>\n",
       "      <td>411286.0</td>\n",
       "      <td>422225.0</td>\n",
       "      <td>497154.0</td>\n",
       "      <td>521151.0</td>\n",
       "    </tr>\n",
       "    <tr>\n",
       "      <th>三塊厝</th>\n",
       "      <td>105842.0</td>\n",
       "      <td>111863.0</td>\n",
       "      <td>147363.0</td>\n",
       "      <td>160297.0</td>\n",
       "      <td>149138.0</td>\n",
       "      <td>155794.0</td>\n",
       "      <td>173337.0</td>\n",
       "      <td>178429.0</td>\n",
       "      <td>210431.0</td>\n",
       "      <td>217998.0</td>\n",
       "    </tr>\n",
       "    <tr>\n",
       "      <th>三姓橋</th>\n",
       "      <td>288098.0</td>\n",
       "      <td>260777.0</td>\n",
       "      <td>386310.0</td>\n",
       "      <td>345666.0</td>\n",
       "      <td>307925.0</td>\n",
       "      <td>276783.0</td>\n",
       "      <td>345589.0</td>\n",
       "      <td>312076.0</td>\n",
       "      <td>432838.0</td>\n",
       "      <td>399207.0</td>\n",
       "    </tr>\n",
       "    <tr>\n",
       "      <th>三民</th>\n",
       "      <td>2435.0</td>\n",
       "      <td>2994.0</td>\n",
       "      <td>2748.0</td>\n",
       "      <td>4164.0</td>\n",
       "      <td>2236.0</td>\n",
       "      <td>3699.0</td>\n",
       "      <td>1985.0</td>\n",
       "      <td>3535.0</td>\n",
       "      <td>3131.0</td>\n",
       "      <td>4260.0</td>\n",
       "    </tr>\n",
       "    <tr>\n",
       "      <th>...</th>\n",
       "      <td>...</td>\n",
       "      <td>...</td>\n",
       "      <td>...</td>\n",
       "      <td>...</td>\n",
       "      <td>...</td>\n",
       "      <td>...</td>\n",
       "      <td>...</td>\n",
       "      <td>...</td>\n",
       "      <td>...</td>\n",
       "      <td>...</td>\n",
       "    </tr>\n",
       "    <tr>\n",
       "      <th>鼓山</th>\n",
       "      <td>50962.0</td>\n",
       "      <td>52786.0</td>\n",
       "      <td>72794.0</td>\n",
       "      <td>75636.0</td>\n",
       "      <td>73043.0</td>\n",
       "      <td>72945.0</td>\n",
       "      <td>107560.0</td>\n",
       "      <td>106773.0</td>\n",
       "      <td>165055.0</td>\n",
       "      <td>168011.0</td>\n",
       "    </tr>\n",
       "    <tr>\n",
       "      <th>龍井</th>\n",
       "      <td>100128.0</td>\n",
       "      <td>97880.0</td>\n",
       "      <td>129583.0</td>\n",
       "      <td>126229.0</td>\n",
       "      <td>106212.0</td>\n",
       "      <td>103974.0</td>\n",
       "      <td>105324.0</td>\n",
       "      <td>104254.0</td>\n",
       "      <td>155439.0</td>\n",
       "      <td>157385.0</td>\n",
       "    </tr>\n",
       "    <tr>\n",
       "      <th>龍泉</th>\n",
       "      <td>4115.0</td>\n",
       "      <td>4960.0</td>\n",
       "      <td>5827.0</td>\n",
       "      <td>6710.0</td>\n",
       "      <td>4542.0</td>\n",
       "      <td>4841.0</td>\n",
       "      <td>4218.0</td>\n",
       "      <td>6038.0</td>\n",
       "      <td>6263.0</td>\n",
       "      <td>8246.0</td>\n",
       "    </tr>\n",
       "    <tr>\n",
       "      <th>龍港</th>\n",
       "      <td>4413.0</td>\n",
       "      <td>5417.0</td>\n",
       "      <td>5581.0</td>\n",
       "      <td>7490.0</td>\n",
       "      <td>5394.0</td>\n",
       "      <td>7578.0</td>\n",
       "      <td>6096.0</td>\n",
       "      <td>8217.0</td>\n",
       "      <td>8662.0</td>\n",
       "      <td>9633.0</td>\n",
       "    </tr>\n",
       "    <tr>\n",
       "      <th>龜山</th>\n",
       "      <td>26408.0</td>\n",
       "      <td>25265.0</td>\n",
       "      <td>33665.0</td>\n",
       "      <td>32326.0</td>\n",
       "      <td>23193.0</td>\n",
       "      <td>22534.0</td>\n",
       "      <td>27966.0</td>\n",
       "      <td>24766.0</td>\n",
       "      <td>29966.0</td>\n",
       "      <td>29613.0</td>\n",
       "    </tr>\n",
       "  </tbody>\n",
       "</table>\n",
       "<p>241 rows × 10 columns</p>\n",
       "</div>"
      ],
      "text/plain": [
       "日期        2019                  2020  ...       2022       2023           \n",
       "進出          進站         出站         進站  ...         出站         進站         出站\n",
       "站名                                    ...                                 \n",
       "七堵   1512951.0  1560506.0  2023475.0  ...  1776557.0  2124487.0  2128604.0\n",
       "三坑    342775.0   347841.0   457042.0  ...   422225.0   497154.0   521151.0\n",
       "三塊厝   105842.0   111863.0   147363.0  ...   178429.0   210431.0   217998.0\n",
       "三姓橋   288098.0   260777.0   386310.0  ...   312076.0   432838.0   399207.0\n",
       "三民      2435.0     2994.0     2748.0  ...     3535.0     3131.0     4260.0\n",
       "..         ...        ...        ...  ...        ...        ...        ...\n",
       "鼓山     50962.0    52786.0    72794.0  ...   106773.0   165055.0   168011.0\n",
       "龍井    100128.0    97880.0   129583.0  ...   104254.0   155439.0   157385.0\n",
       "龍泉      4115.0     4960.0     5827.0  ...     6038.0     6263.0     8246.0\n",
       "龍港      4413.0     5417.0     5581.0  ...     8217.0     8662.0     9633.0\n",
       "龜山     26408.0    25265.0    33665.0  ...    24766.0    29966.0    29613.0\n",
       "\n",
       "[241 rows x 10 columns]"
      ]
     },
     "execution_count": 68,
     "metadata": {},
     "output_type": "execute_result"
    }
   ],
   "source": [
    "s1 = df8.stack().unstack(['日期','進出'])\n",
    "s1"
   ]
  }
 ],
 "metadata": {
  "kernelspec": {
   "display_name": "Python 3",
   "language": "python",
   "name": "python3"
  },
  "language_info": {
   "codemirror_mode": {
    "name": "ipython",
    "version": 3
   },
   "file_extension": ".py",
   "mimetype": "text/x-python",
   "name": "python",
   "nbconvert_exporter": "python",
   "pygments_lexer": "ipython3",
   "version": "3.10.13"
  }
 },
 "nbformat": 4,
 "nbformat_minor": 2
}
