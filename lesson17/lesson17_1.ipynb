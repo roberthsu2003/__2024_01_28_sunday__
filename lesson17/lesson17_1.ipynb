{
 "cells": [
  {
   "cell_type": "markdown",
   "metadata": {},
   "source": [
    "# 使用pandas過濾下載的資料\n",
    "## 下載資料"
   ]
  },
  {
   "cell_type": "code",
   "execution_count": 1,
   "metadata": {},
   "outputs": [
    {
     "name": "stdout",
     "output_type": "stream",
     "text": [
      "連線沒有問題\n",
      "資料下載成功\n"
     ]
    }
   ],
   "source": [
    "import requests\n",
    "from requests import Response\n",
    "youbike_url = 'https://tcgbusfs.blob.core.windows.net/dotapp/youbike/v2/youbike_immediate.json'\n",
    "try:\n",
    "    response:Response = requests.get(youbike_url)\n",
    "except:\n",
    "    print(\"Internet有問題\")\n",
    "else:\n",
    "    print(\"連線沒有問題\")\n",
    "\n",
    "if response.status_code == 200:\n",
    "    print(\"資料下載成功\")\n",
    "else:\n",
    "    print(\"資料下載有問題\")"
   ]
  },
  {
   "cell_type": "code",
   "execution_count": null,
   "metadata": {},
   "outputs": [],
   "source": [
    "data:list[dict] = response.json()\n",
    "data"
   ]
  },
  {
   "cell_type": "code",
   "execution_count": null,
   "metadata": {},
   "outputs": [],
   "source": [
    "import pandas as pd\n",
    "\n",
    "#使用columns,過濾要使用的欄位\n",
    "df1 = pd.DataFrame(data,columns=['sna','sarea','ar','tot','sbi','bemp','mday'])\n",
    "df1"
   ]
  },
  {
   "cell_type": "markdown",
   "metadata": {},
   "source": [
    "## 更改欄位名稱\n",
    "- rename()"
   ]
  },
  {
   "cell_type": "code",
   "execution_count": 10,
   "metadata": {},
   "outputs": [
    {
     "data": {
      "text/html": [
       "<div>\n",
       "<style scoped>\n",
       "    .dataframe tbody tr th:only-of-type {\n",
       "        vertical-align: middle;\n",
       "    }\n",
       "\n",
       "    .dataframe tbody tr th {\n",
       "        vertical-align: top;\n",
       "    }\n",
       "\n",
       "    .dataframe thead th {\n",
       "        text-align: right;\n",
       "    }\n",
       "</style>\n",
       "<table border=\"1\" class=\"dataframe\">\n",
       "  <thead>\n",
       "    <tr style=\"text-align: right;\">\n",
       "      <th></th>\n",
       "      <th>站點名稱</th>\n",
       "      <th>行政區</th>\n",
       "      <th>地址</th>\n",
       "      <th>車輛總數</th>\n",
       "      <th>可借</th>\n",
       "      <th>可還</th>\n",
       "      <th>時間</th>\n",
       "    </tr>\n",
       "  </thead>\n",
       "  <tbody>\n",
       "    <tr>\n",
       "      <th>0</th>\n",
       "      <td>YouBike2.0_捷運科技大樓站</td>\n",
       "      <td>大安區</td>\n",
       "      <td>復興南路二段235號前</td>\n",
       "      <td>28</td>\n",
       "      <td>4</td>\n",
       "      <td>24</td>\n",
       "      <td>2024-03-31 10:43:18</td>\n",
       "    </tr>\n",
       "    <tr>\n",
       "      <th>1</th>\n",
       "      <td>YouBike2.0_復興南路二段273號前</td>\n",
       "      <td>大安區</td>\n",
       "      <td>復興南路二段273號西側</td>\n",
       "      <td>21</td>\n",
       "      <td>5</td>\n",
       "      <td>16</td>\n",
       "      <td>2024-03-31 10:45:18</td>\n",
       "    </tr>\n",
       "    <tr>\n",
       "      <th>2</th>\n",
       "      <td>YouBike2.0_國北教大實小東側門</td>\n",
       "      <td>大安區</td>\n",
       "      <td>和平東路二段96巷7號</td>\n",
       "      <td>16</td>\n",
       "      <td>7</td>\n",
       "      <td>9</td>\n",
       "      <td>2024-03-31 10:33:18</td>\n",
       "    </tr>\n",
       "    <tr>\n",
       "      <th>3</th>\n",
       "      <td>YouBike2.0_和平公園東側</td>\n",
       "      <td>大安區</td>\n",
       "      <td>和平東路二段118巷33號</td>\n",
       "      <td>11</td>\n",
       "      <td>2</td>\n",
       "      <td>9</td>\n",
       "      <td>2024-03-31 10:44:18</td>\n",
       "    </tr>\n",
       "    <tr>\n",
       "      <th>4</th>\n",
       "      <td>YouBike2.0_辛亥復興路口西北側</td>\n",
       "      <td>大安區</td>\n",
       "      <td>復興南路二段368號</td>\n",
       "      <td>16</td>\n",
       "      <td>13</td>\n",
       "      <td>3</td>\n",
       "      <td>2024-03-31 10:44:18</td>\n",
       "    </tr>\n",
       "    <tr>\n",
       "      <th>...</th>\n",
       "      <td>...</td>\n",
       "      <td>...</td>\n",
       "      <td>...</td>\n",
       "      <td>...</td>\n",
       "      <td>...</td>\n",
       "      <td>...</td>\n",
       "      <td>...</td>\n",
       "    </tr>\n",
       "    <tr>\n",
       "      <th>1383</th>\n",
       "      <td>YouBike2.0_臺大總圖書館西南側</td>\n",
       "      <td>臺大公館校區</td>\n",
       "      <td>臺大圖書館西南側</td>\n",
       "      <td>30</td>\n",
       "      <td>14</td>\n",
       "      <td>16</td>\n",
       "      <td>2024-03-31 10:39:18</td>\n",
       "    </tr>\n",
       "    <tr>\n",
       "      <th>1384</th>\n",
       "      <td>YouBike2.0_臺大黑森林西側</td>\n",
       "      <td>臺大公館校區</td>\n",
       "      <td>臺大霖澤館南側</td>\n",
       "      <td>20</td>\n",
       "      <td>1</td>\n",
       "      <td>19</td>\n",
       "      <td>2024-03-31 10:44:17</td>\n",
       "    </tr>\n",
       "    <tr>\n",
       "      <th>1385</th>\n",
       "      <td>YouBike2.0_臺大獸醫館南側</td>\n",
       "      <td>臺大公館校區</td>\n",
       "      <td>臺大獸醫系館南側</td>\n",
       "      <td>24</td>\n",
       "      <td>6</td>\n",
       "      <td>18</td>\n",
       "      <td>2024-03-31 10:40:30</td>\n",
       "    </tr>\n",
       "    <tr>\n",
       "      <th>1386</th>\n",
       "      <td>YouBike2.0_臺大新體育館東南側</td>\n",
       "      <td>臺大公館校區</td>\n",
       "      <td>臺大體育館東側</td>\n",
       "      <td>40</td>\n",
       "      <td>14</td>\n",
       "      <td>26</td>\n",
       "      <td>2024-03-31 10:42:17</td>\n",
       "    </tr>\n",
       "    <tr>\n",
       "      <th>1387</th>\n",
       "      <td>YouBike2.0_臺大明達館北側(員工宿舍)</td>\n",
       "      <td>臺大公館校區</td>\n",
       "      <td>明達館北側前空地</td>\n",
       "      <td>18</td>\n",
       "      <td>0</td>\n",
       "      <td>18</td>\n",
       "      <td>2024-03-31 09:42:14</td>\n",
       "    </tr>\n",
       "  </tbody>\n",
       "</table>\n",
       "<p>1388 rows × 7 columns</p>\n",
       "</div>"
      ],
      "text/plain": [
       "                          站點名稱     行政區             地址  車輛總數  可借  可還  \\\n",
       "0           YouBike2.0_捷運科技大樓站     大安區    復興南路二段235號前    28   4  24   \n",
       "1       YouBike2.0_復興南路二段273號前     大安區   復興南路二段273號西側    21   5  16   \n",
       "2         YouBike2.0_國北教大實小東側門     大安區    和平東路二段96巷7號    16   7   9   \n",
       "3            YouBike2.0_和平公園東側     大安區  和平東路二段118巷33號    11   2   9   \n",
       "4         YouBike2.0_辛亥復興路口西北側     大安區     復興南路二段368號    16  13   3   \n",
       "...                        ...     ...            ...   ...  ..  ..   \n",
       "1383      YouBike2.0_臺大總圖書館西南側  臺大公館校區       臺大圖書館西南側    30  14  16   \n",
       "1384        YouBike2.0_臺大黑森林西側  臺大公館校區        臺大霖澤館南側    20   1  19   \n",
       "1385        YouBike2.0_臺大獸醫館南側  臺大公館校區       臺大獸醫系館南側    24   6  18   \n",
       "1386      YouBike2.0_臺大新體育館東南側  臺大公館校區        臺大體育館東側    40  14  26   \n",
       "1387  YouBike2.0_臺大明達館北側(員工宿舍)  臺大公館校區       明達館北側前空地    18   0  18   \n",
       "\n",
       "                       時間  \n",
       "0     2024-03-31 10:43:18  \n",
       "1     2024-03-31 10:45:18  \n",
       "2     2024-03-31 10:33:18  \n",
       "3     2024-03-31 10:44:18  \n",
       "4     2024-03-31 10:44:18  \n",
       "...                   ...  \n",
       "1383  2024-03-31 10:39:18  \n",
       "1384  2024-03-31 10:44:17  \n",
       "1385  2024-03-31 10:40:30  \n",
       "1386  2024-03-31 10:42:17  \n",
       "1387  2024-03-31 09:42:14  \n",
       "\n",
       "[1388 rows x 7 columns]"
      ]
     },
     "execution_count": 10,
     "metadata": {},
     "output_type": "execute_result"
    }
   ],
   "source": [
    "df2 = df1.rename(columns={\"sna\":\"站點名稱\",\"sarea\":\"行政區\",\"ar\":\"地址\",\"tot\":\"車輛總數\",\"sbi\":\"可借\",\"bemp\":\"可還\",\"mday\":\"時間\"})\n",
    "df2"
   ]
  },
  {
   "cell_type": "code",
   "execution_count": 11,
   "metadata": {},
   "outputs": [
    {
     "name": "stdout",
     "output_type": "stream",
     "text": [
      "<class 'pandas.core.frame.DataFrame'>\n",
      "RangeIndex: 1388 entries, 0 to 1387\n",
      "Data columns (total 7 columns):\n",
      " #   Column  Non-Null Count  Dtype \n",
      "---  ------  --------------  ----- \n",
      " 0   站點名稱    1388 non-null   object\n",
      " 1   行政區     1388 non-null   object\n",
      " 2   地址      1388 non-null   object\n",
      " 3   車輛總數    1388 non-null   int64 \n",
      " 4   可借      1388 non-null   int64 \n",
      " 5   可還      1388 non-null   int64 \n",
      " 6   時間      1388 non-null   object\n",
      "dtypes: int64(3), object(4)\n",
      "memory usage: 76.0+ KB\n"
     ]
    }
   ],
   "source": [
    "## 顯非表格的資訊\n",
    "df2.info()"
   ]
  }
 ],
 "metadata": {
  "kernelspec": {
   "display_name": "Python 3",
   "language": "python",
   "name": "python3"
  },
  "language_info": {
   "codemirror_mode": {
    "name": "ipython",
    "version": 3
   },
   "file_extension": ".py",
   "mimetype": "text/x-python",
   "name": "python",
   "nbconvert_exporter": "python",
   "pygments_lexer": "ipython3",
   "version": "3.10.13"
  }
 },
 "nbformat": 4,
 "nbformat_minor": 2
}
