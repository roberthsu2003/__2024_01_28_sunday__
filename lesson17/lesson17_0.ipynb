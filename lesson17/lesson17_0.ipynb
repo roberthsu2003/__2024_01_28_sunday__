{
 "cells": [
  {
   "cell_type": "markdown",
   "metadata": {},
   "source": [
    "## 下載資料"
   ]
  },
  {
   "cell_type": "code",
   "execution_count": 8,
   "metadata": {},
   "outputs": [
    {
     "name": "stdout",
     "output_type": "stream",
     "text": [
      "連線沒有問題\n",
      "資料下載成功\n"
     ]
    }
   ],
   "source": [
    "import requests\n",
    "from requests import Response\n",
    "youbike_url = 'https://tcgbusfs.blob.core.windows.net/dotapp/youbike/v2/youbike_immediate.json'\n",
    "try:\n",
    "    response:Response = requests.get(youbike_url)\n",
    "except:\n",
    "    print(\"Internet有問題\")\n",
    "else:\n",
    "    print(\"連線沒有問題\")\n",
    "\n",
    "if response.status_code == 200:\n",
    "    print(\"資料下載成功\")\n",
    "else:\n",
    "    print(\"資料下載有問題\")\n"
   ]
  },
  {
   "cell_type": "markdown",
   "metadata": {},
   "source": [
    "## 取出資料\n",
    "- 取出純文字的josn格式資料\n",
    "- 取出python的基本資料結構"
   ]
  },
  {
   "cell_type": "code",
   "execution_count": null,
   "metadata": {},
   "outputs": [],
   "source": [
    "from pprint import pprint\n",
    "response.encoding = 'utf-8'\n",
    "#取出純文字的json\n",
    "pprint(response.text)"
   ]
  },
  {
   "cell_type": "code",
   "execution_count": null,
   "metadata": {},
   "outputs": [],
   "source": [
    "#取出python的基本資料類型\n",
    "\n",
    "data:list[dict] = response.json()\n",
    "data"
   ]
  },
  {
   "cell_type": "markdown",
   "metadata": {},
   "source": [
    "## 使用pydantic過濾資料\n"
   ]
  },
  {
   "cell_type": "code",
   "execution_count": 17,
   "metadata": {},
   "outputs": [],
   "source": [
    "from pydantic import RootModel,BaseModel,Field\n",
    "\n",
    "class Site(BaseModel):\n",
    "    站點名稱:str = Field(alias='sna')\n",
    "    行政區:str = Field(alias='sarea')\n",
    "    地址:str = Field(alias='ar')\n",
    "    日期:str = Field(alias='mday')\n",
    "    總車輛數:int = Field(alias='tot')\n",
    "    可借:int = Field(alias='sbi')\n",
    "    可還:int = Field(alias='bemp')\n",
    "\n",
    "class Sites(RootModel):\n",
    "    root:list[Site]\n",
    "\n",
    "    def __iter__(self):\n",
    "        return iter(self.root)\n",
    "    \n",
    "    def __getitem__(self,item):\n",
    "        return self.root[item]   \n",
    "\n"
   ]
  },
  {
   "cell_type": "markdown",
   "metadata": {},
   "source": [
    "## 驗証資料\n",
    "- 使用class method -> model_validate()\n",
    "    - 驗証python的基本資料結構\n",
    "- 使用class method -> model_validate_json()\n",
    "    - 驗証json的純文字"
   ]
  },
  {
   "cell_type": "code",
   "execution_count": null,
   "metadata": {},
   "outputs": [],
   "source": [
    "sites:Sites = Sites.model_validate(data)\n",
    "for site in sites:\n",
    "    print(site)"
   ]
  }
 ],
 "metadata": {
  "kernelspec": {
   "display_name": "Python 3",
   "language": "python",
   "name": "python3"
  },
  "language_info": {
   "codemirror_mode": {
    "name": "ipython",
    "version": 3
   },
   "file_extension": ".py",
   "mimetype": "text/x-python",
   "name": "python",
   "nbconvert_exporter": "python",
   "pygments_lexer": "ipython3",
   "version": "3.10.13"
  }
 },
 "nbformat": 4,
 "nbformat_minor": 2
}
