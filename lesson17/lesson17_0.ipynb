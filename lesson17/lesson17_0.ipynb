{
 "cells": [
  {
   "cell_type": "markdown",
   "metadata": {},
   "source": [
    "## 下載資料"
   ]
  },
  {
   "cell_type": "code",
   "execution_count": 8,
   "metadata": {},
   "outputs": [
    {
     "name": "stdout",
     "output_type": "stream",
     "text": [
      "連線沒有問題\n",
      "資料下載成功\n"
     ]
    }
   ],
   "source": [
    "import requests\n",
    "from requests import Response\n",
    "youbike_url = 'https://tcgbusfs.blob.core.windows.net/dotapp/youbike/v2/youbike_immediate.json'\n",
    "try:\n",
    "    response:Response = requests.get(youbike_url)\n",
    "except:\n",
    "    print(\"Internet有問題\")\n",
    "else:\n",
    "    print(\"連線沒有問題\")\n",
    "\n",
    "if response.status_code == 200:\n",
    "    print(\"資料下載成功\")\n",
    "else:\n",
    "    print(\"資料下載有問題\")\n"
   ]
  },
  {
   "cell_type": "markdown",
   "metadata": {},
   "source": [
    "## 取出資料\n",
    "- 取出純文字的josn格式資料\n",
    "- 取出python的基本資料結構"
   ]
  },
  {
   "cell_type": "code",
   "execution_count": null,
   "metadata": {},
   "outputs": [],
   "source": [
    "from pprint import pprint\n",
    "response.encoding = 'utf-8'\n",
    "#取出純文字的json\n",
    "pprint(response.text)"
   ]
  },
  {
   "cell_type": "code",
   "execution_count": null,
   "metadata": {},
   "outputs": [],
   "source": [
    "#取出python的基本資料類型\n",
    "\n",
    "data:list[dict] = response.json()\n",
    "data"
   ]
  },
  {
   "cell_type": "markdown",
   "metadata": {},
   "source": [
    "## 使用pydantic過濾資料\n"
   ]
  },
  {
   "cell_type": "code",
   "execution_count": 17,
   "metadata": {},
   "outputs": [],
   "source": [
    "from pydantic import RootModel,BaseModel,Field\n",
    "\n",
    "class Site(BaseModel):\n",
    "    站點名稱:str = Field(alias='sna')\n",
    "    行政區:str = Field(alias='sarea')\n",
    "    地址:str = Field(alias='ar')\n",
    "    日期:str = Field(alias='mday')\n",
    "    總車輛數:int = Field(alias='tot')\n",
    "    可借:int = Field(alias='sbi')\n",
    "    可還:int = Field(alias='bemp')\n",
    "\n",
    "class Sites(RootModel):\n",
    "    root:list[Site]\n",
    "\n",
    "    def __iter__(self):\n",
    "        return iter(self.root)\n",
    "    \n",
    "    def __getitem__(self,item):\n",
    "        return self.root[item]   \n",
    "\n"
   ]
  },
  {
   "cell_type": "markdown",
   "metadata": {},
   "source": [
    "## 驗証資料\n",
    "- 使用class method -> model_validate()\n",
    "    - 驗証python的基本資料結構\n",
    "- 使用class method -> model_validate_json()\n",
    "    - 驗証json的純文字"
   ]
  },
  {
   "cell_type": "code",
   "execution_count": null,
   "metadata": {},
   "outputs": [],
   "source": [
    "sites:Sites = Sites.model_validate(data)\n",
    "for site in sites:\n",
    "    print(site)"
   ]
  },
  {
   "cell_type": "markdown",
   "metadata": {},
   "source": [
    "## RootModel轉換為python資料結構\n",
    "- 使用實體方法->model_dump()"
   ]
  },
  {
   "cell_type": "code",
   "execution_count": null,
   "metadata": {},
   "outputs": [],
   "source": [
    "source_data:list[dict] = sites.model_dump()\n",
    "source_data"
   ]
  },
  {
   "cell_type": "markdown",
   "metadata": {},
   "source": [
    "## 將資料轉換為DataFrame"
   ]
  },
  {
   "cell_type": "code",
   "execution_count": 23,
   "metadata": {},
   "outputs": [
    {
     "data": {
      "text/html": [
       "<div>\n",
       "<style scoped>\n",
       "    .dataframe tbody tr th:only-of-type {\n",
       "        vertical-align: middle;\n",
       "    }\n",
       "\n",
       "    .dataframe tbody tr th {\n",
       "        vertical-align: top;\n",
       "    }\n",
       "\n",
       "    .dataframe thead th {\n",
       "        text-align: right;\n",
       "    }\n",
       "</style>\n",
       "<table border=\"1\" class=\"dataframe\">\n",
       "  <thead>\n",
       "    <tr style=\"text-align: right;\">\n",
       "      <th></th>\n",
       "      <th>站點名稱</th>\n",
       "      <th>行政區</th>\n",
       "      <th>地址</th>\n",
       "      <th>日期</th>\n",
       "      <th>總車輛數</th>\n",
       "      <th>可借</th>\n",
       "      <th>可還</th>\n",
       "    </tr>\n",
       "  </thead>\n",
       "  <tbody>\n",
       "    <tr>\n",
       "      <th>0</th>\n",
       "      <td>YouBike2.0_捷運科技大樓站</td>\n",
       "      <td>大安區</td>\n",
       "      <td>復興南路二段235號前</td>\n",
       "      <td>2024-03-31 09:54:19</td>\n",
       "      <td>28</td>\n",
       "      <td>7</td>\n",
       "      <td>21</td>\n",
       "    </tr>\n",
       "    <tr>\n",
       "      <th>1</th>\n",
       "      <td>YouBike2.0_復興南路二段273號前</td>\n",
       "      <td>大安區</td>\n",
       "      <td>復興南路二段273號西側</td>\n",
       "      <td>2024-03-31 09:51:19</td>\n",
       "      <td>21</td>\n",
       "      <td>7</td>\n",
       "      <td>14</td>\n",
       "    </tr>\n",
       "    <tr>\n",
       "      <th>2</th>\n",
       "      <td>YouBike2.0_國北教大實小東側門</td>\n",
       "      <td>大安區</td>\n",
       "      <td>和平東路二段96巷7號</td>\n",
       "      <td>2024-03-31 09:54:19</td>\n",
       "      <td>16</td>\n",
       "      <td>11</td>\n",
       "      <td>5</td>\n",
       "    </tr>\n",
       "    <tr>\n",
       "      <th>3</th>\n",
       "      <td>YouBike2.0_和平公園東側</td>\n",
       "      <td>大安區</td>\n",
       "      <td>和平東路二段118巷33號</td>\n",
       "      <td>2024-03-31 09:54:19</td>\n",
       "      <td>11</td>\n",
       "      <td>1</td>\n",
       "      <td>10</td>\n",
       "    </tr>\n",
       "    <tr>\n",
       "      <th>4</th>\n",
       "      <td>YouBike2.0_辛亥復興路口西北側</td>\n",
       "      <td>大安區</td>\n",
       "      <td>復興南路二段368號</td>\n",
       "      <td>2024-03-31 09:46:17</td>\n",
       "      <td>16</td>\n",
       "      <td>9</td>\n",
       "      <td>7</td>\n",
       "    </tr>\n",
       "    <tr>\n",
       "      <th>...</th>\n",
       "      <td>...</td>\n",
       "      <td>...</td>\n",
       "      <td>...</td>\n",
       "      <td>...</td>\n",
       "      <td>...</td>\n",
       "      <td>...</td>\n",
       "      <td>...</td>\n",
       "    </tr>\n",
       "    <tr>\n",
       "      <th>1383</th>\n",
       "      <td>YouBike2.0_臺大總圖書館西南側</td>\n",
       "      <td>臺大公館校區</td>\n",
       "      <td>臺大圖書館西南側</td>\n",
       "      <td>2024-03-31 09:56:18</td>\n",
       "      <td>30</td>\n",
       "      <td>11</td>\n",
       "      <td>19</td>\n",
       "    </tr>\n",
       "    <tr>\n",
       "      <th>1384</th>\n",
       "      <td>YouBike2.0_臺大黑森林西側</td>\n",
       "      <td>臺大公館校區</td>\n",
       "      <td>臺大霖澤館南側</td>\n",
       "      <td>2024-03-31 09:49:18</td>\n",
       "      <td>20</td>\n",
       "      <td>2</td>\n",
       "      <td>18</td>\n",
       "    </tr>\n",
       "    <tr>\n",
       "      <th>1385</th>\n",
       "      <td>YouBike2.0_臺大獸醫館南側</td>\n",
       "      <td>臺大公館校區</td>\n",
       "      <td>臺大獸醫系館南側</td>\n",
       "      <td>2024-03-31 09:47:18</td>\n",
       "      <td>24</td>\n",
       "      <td>5</td>\n",
       "      <td>19</td>\n",
       "    </tr>\n",
       "    <tr>\n",
       "      <th>1386</th>\n",
       "      <td>YouBike2.0_臺大新體育館東南側</td>\n",
       "      <td>臺大公館校區</td>\n",
       "      <td>臺大體育館東側</td>\n",
       "      <td>2024-03-31 09:51:19</td>\n",
       "      <td>40</td>\n",
       "      <td>19</td>\n",
       "      <td>21</td>\n",
       "    </tr>\n",
       "    <tr>\n",
       "      <th>1387</th>\n",
       "      <td>YouBike2.0_臺大明達館北側(員工宿舍)</td>\n",
       "      <td>臺大公館校區</td>\n",
       "      <td>明達館北側前空地</td>\n",
       "      <td>2024-03-31 09:42:14</td>\n",
       "      <td>18</td>\n",
       "      <td>0</td>\n",
       "      <td>18</td>\n",
       "    </tr>\n",
       "  </tbody>\n",
       "</table>\n",
       "<p>1388 rows × 7 columns</p>\n",
       "</div>"
      ],
      "text/plain": [
       "                          站點名稱     行政區             地址                   日期  \\\n",
       "0           YouBike2.0_捷運科技大樓站     大安區    復興南路二段235號前  2024-03-31 09:54:19   \n",
       "1       YouBike2.0_復興南路二段273號前     大安區   復興南路二段273號西側  2024-03-31 09:51:19   \n",
       "2         YouBike2.0_國北教大實小東側門     大安區    和平東路二段96巷7號  2024-03-31 09:54:19   \n",
       "3            YouBike2.0_和平公園東側     大安區  和平東路二段118巷33號  2024-03-31 09:54:19   \n",
       "4         YouBike2.0_辛亥復興路口西北側     大安區     復興南路二段368號  2024-03-31 09:46:17   \n",
       "...                        ...     ...            ...                  ...   \n",
       "1383      YouBike2.0_臺大總圖書館西南側  臺大公館校區       臺大圖書館西南側  2024-03-31 09:56:18   \n",
       "1384        YouBike2.0_臺大黑森林西側  臺大公館校區        臺大霖澤館南側  2024-03-31 09:49:18   \n",
       "1385        YouBike2.0_臺大獸醫館南側  臺大公館校區       臺大獸醫系館南側  2024-03-31 09:47:18   \n",
       "1386      YouBike2.0_臺大新體育館東南側  臺大公館校區        臺大體育館東側  2024-03-31 09:51:19   \n",
       "1387  YouBike2.0_臺大明達館北側(員工宿舍)  臺大公館校區       明達館北側前空地  2024-03-31 09:42:14   \n",
       "\n",
       "      總車輛數  可借  可還  \n",
       "0       28   7  21  \n",
       "1       21   7  14  \n",
       "2       16  11   5  \n",
       "3       11   1  10  \n",
       "4       16   9   7  \n",
       "...    ...  ..  ..  \n",
       "1383    30  11  19  \n",
       "1384    20   2  18  \n",
       "1385    24   5  19  \n",
       "1386    40  19  21  \n",
       "1387    18   0  18  \n",
       "\n",
       "[1388 rows x 7 columns]"
      ]
     },
     "execution_count": 23,
     "metadata": {},
     "output_type": "execute_result"
    }
   ],
   "source": [
    "import pandas as pd\n",
    "\n",
    "df1 = pd.DataFrame(source_data)\n",
    "df1"
   ]
  }
 ],
 "metadata": {
  "kernelspec": {
   "display_name": "Python 3",
   "language": "python",
   "name": "python3"
  },
  "language_info": {
   "codemirror_mode": {
    "name": "ipython",
    "version": 3
   },
   "file_extension": ".py",
   "mimetype": "text/x-python",
   "name": "python",
   "nbconvert_exporter": "python",
   "pygments_lexer": "ipython3",
   "version": "3.10.13"
  }
 },
 "nbformat": 4,
 "nbformat_minor": 2
}
