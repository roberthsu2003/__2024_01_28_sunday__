{
 "cells": [
  {
   "cell_type": "code",
   "execution_count": 6,
   "metadata": {},
   "outputs": [
    {
     "name": "stdout",
     "output_type": "stream",
     "text": [
      "============猜數字遊戲============\n",
      "\n",
      "\n",
      "要猜的數字是2\n"
     ]
    }
   ],
   "source": [
    "import random\n",
    "\n",
    "min = 1\n",
    "max = 100\n",
    "guess = random.randint(min,max)\n",
    "\n",
    "print(\"============猜數字遊戲============\\n\\n\")\n",
    "print(f'要猜的數字是{guess}')"
   ]
  }
 ],
 "metadata": {
  "kernelspec": {
   "display_name": "Python 3",
   "language": "python",
   "name": "python3"
  },
  "language_info": {
   "codemirror_mode": {
    "name": "ipython",
    "version": 3
   },
   "file_extension": ".py",
   "mimetype": "text/x-python",
   "name": "python",
   "nbconvert_exporter": "python",
   "pygments_lexer": "ipython3",
   "version": "3.10.13"
  }
 },
 "nbformat": 4,
 "nbformat_minor": 2
}
