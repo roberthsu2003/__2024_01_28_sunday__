{
 "cells": [
  {
   "cell_type": "code",
   "execution_count": 3,
   "metadata": {},
   "outputs": [
    {
     "name": "stdout",
     "output_type": "stream",
     "text": [
      "斜邊:50,對邊:25\n",
      "角度是30.00\n"
     ]
    }
   ],
   "source": [
    "import math\n",
    "side1 = eval(input(\"請輸入直角三角形的斜邊\"))\n",
    "side2 = eval(input(\"請輸入直角三角形的對邊\"))\n",
    "\n",
    "radian = math.asin(side2 / side1)\n",
    "degree = math.degrees(radian)\n",
    "\n",
    "print(f'斜邊:{side1},對邊:{side2}')\n",
    "print(f'角度是{degree:.2f}')"
   ]
  },
  {
   "cell_type": "code",
   "execution_count": 11,
   "metadata": {},
   "outputs": [
    {
     "name": "stdout",
     "output_type": "stream",
     "text": [
      "1,3,5,7,9,11,57, 100的平均是24.125\n",
      "1,3,5,7,9,11,57, 100的中間值是8.0\n",
      "1,3,5,7,9,11,57, 100的標準差35.61475416573466\n"
     ]
    }
   ],
   "source": [
    "import statistics\n",
    "#[1, 3, 5, 7, 9, 11]\n",
    "#平均\n",
    "#中間數\n",
    "#標準差\n",
    "\n",
    "mean_value = statistics.mean([1, 3, 5, 7, 9, 11, 57, 100])\n",
    "print(f'1,3,5,7,9,11,57, 100的平均是{mean_value}')\n",
    "\n",
    "median_value = statistics.median([1, 3, 5, 7, 9, 11, 57, 100])\n",
    "print(f'1,3,5,7,9,11,57, 100的中間值是{median_value}')\n",
    "\n",
    "std_value = statistics.stdev([1, 3, 5, 7, 9, 11, 57, 100])\n",
    "print(f'1,3,5,7,9,11,57, 100的標準差{std_value}')\n"
   ]
  }
 ],
 "metadata": {
  "kernelspec": {
   "display_name": "Python 3",
   "language": "python",
   "name": "python3"
  },
  "language_info": {
   "codemirror_mode": {
    "name": "ipython",
    "version": 3
   },
   "file_extension": ".py",
   "mimetype": "text/x-python",
   "name": "python",
   "nbconvert_exporter": "python",
   "pygments_lexer": "ipython3",
   "version": "3.10.13"
  }
 },
 "nbformat": 4,
 "nbformat_minor": 2
}
