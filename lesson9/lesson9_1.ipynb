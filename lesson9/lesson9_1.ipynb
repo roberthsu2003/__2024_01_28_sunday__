{
 "cells": [
  {
   "cell_type": "code",
   "execution_count": 2,
   "metadata": {},
   "outputs": [],
   "source": [
    "t1 = (1,2,3,4) #tuple\n",
    "#tuple內容不可以更改(不可變變數)\n",
    "#sequence\n",
    "#iterable"
   ]
  },
  {
   "cell_type": "code",
   "execution_count": 11,
   "metadata": {},
   "outputs": [
    {
     "name": "stdout",
     "output_type": "stream",
     "text": [
      "1\n",
      "2\n",
      "3\n",
      "4\n",
      "編號0:1\n",
      "編號1:2\n",
      "編號2:3\n",
      "編號3:4\n",
      "1\n",
      "2\n",
      "3\n",
      "4\n",
      "a\n",
      "b\n",
      "c\n"
     ]
    },
    {
     "data": {
      "text/plain": [
       "('a', 'b', 'c')"
      ]
     },
     "execution_count": 11,
     "metadata": {},
     "output_type": "execute_result"
    }
   ],
   "source": [
    "for i in t1:\n",
    "    print(i)\n",
    "\n",
    "print(f'編號0:{t1[0]}') #subscript\n",
    "print(f'編號1:{t1[1]}') #subscript\n",
    "print(f'編號2:{t1[2]}') #subscript\n",
    "print(f'編號3:{t1[3]}') #subscript\n",
    "\n",
    "#tuple,暫時儲存\n",
    "#最常使用拆解法,取出裏面的值\n",
    "(v1,v2,v3,v4) = t1\n",
    "print(v1)\n",
    "print(v2)\n",
    "print(v3)\n",
    "print(v4)\n",
    "\n",
    "vary1, vary2, vary3 = 'a','b','c'\n",
    "print(vary1)\n",
    "print(vary2)\n",
    "print(vary3)\n",
    "\n",
    "vary1, vary2, vary3"
   ]
  },
  {
   "cell_type": "code",
   "execution_count": 12,
   "metadata": {},
   "outputs": [
    {
     "name": "stdout",
     "output_type": "stream",
     "text": [
      "7\n",
      "8\n",
      "9\n",
      "10\n",
      "編號0:7\n",
      "編號1:8\n",
      "編號2:9\n",
      "編號3:10\n"
     ]
    }
   ],
   "source": [
    "l1 = [7,8,9,10]\n",
    "#tuple內容可以更改(可變變數)\n",
    "#sequence\n",
    "#iterable\n",
    "for i in l1:\n",
    "    print(i)\n",
    "\n",
    "print(f'編號0:{l1[0]}') #subscript\n",
    "print(f'編號1:{l1[1]}') #subscript\n",
    "print(f'編號2:{l1[2]}') #subscript\n",
    "print(f'編號3:{l1[3]}') #subscript\n"
   ]
  }
 ],
 "metadata": {
  "kernelspec": {
   "display_name": "Python 3",
   "language": "python",
   "name": "python3"
  },
  "language_info": {
   "codemirror_mode": {
    "name": "ipython",
    "version": 3
   },
   "file_extension": ".py",
   "mimetype": "text/x-python",
   "name": "python",
   "nbconvert_exporter": "python",
   "pygments_lexer": "ipython3",
   "version": "3.10.13"
  }
 },
 "nbformat": 4,
 "nbformat_minor": 2
}
