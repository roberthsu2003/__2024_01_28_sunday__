{
 "cells": [
  {
   "cell_type": "code",
   "execution_count": 5,
   "metadata": {},
   "outputs": [
    {
     "name": "stdout",
     "output_type": "stream",
     "text": [
      "[['筆記電腦', '商用筆電', '電競筆電'], ['APPLE', 'ASUS', 'HTC'], ['冰箱', '洗衣機', '電視']]\n"
     ]
    }
   ],
   "source": [
    "from pprint import pprint\n",
    "\n",
    "nb: list[str] = ['筆記電腦', '商用筆電','電競筆電'] #type hint\n",
    "mobile: list[str] = ['APPLE', 'ASUS', 'HTC'] \n",
    "home: list[str] = ['冰箱','洗衣機','電視']\n",
    "\n",
    "all3c = [nb, mobile, home]\n",
    "pprint(all3c)"
   ]
  },
  {
   "cell_type": "code",
   "execution_count": 8,
   "metadata": {},
   "outputs": [
    {
     "data": {
      "text/plain": [
       "[['冰箱', '洗衣機', '電視'], ['APPLE', 'ASUS', 'HTC'], ['筆記電腦', '商用筆電', '電競筆電']]"
      ]
     },
     "execution_count": 8,
     "metadata": {},
     "output_type": "execute_result"
    }
   ],
   "source": [
    "#使用list的實體方法,append()\n",
    "all3c: list[list[str]] = []\n",
    "all3c.append(nb)\n",
    "all3c.append(mobile)\n",
    "all3c.append(home)\n",
    "all3c.reverse()\n",
    "all3c"
   ]
  },
  {
   "cell_type": "code",
   "execution_count": 12,
   "metadata": {},
   "outputs": [
    {
     "data": {
      "text/plain": [
       "[95, 100, 83, 91, 95]"
      ]
     },
     "execution_count": 12,
     "metadata": {},
     "output_type": "execute_result"
    }
   ],
   "source": [
    "from random import randint\n",
    "stu1: list[int] = [randint(50,100),randint(50,100),randint(50,100),randint(50,100),randint(50,100)]\n",
    "stu1"
   ]
  },
  {
   "cell_type": "code",
   "execution_count": 17,
   "metadata": {},
   "outputs": [
    {
     "data": {
      "text/plain": [
       "[74, 67, 94, 72, 65]"
      ]
     },
     "execution_count": 17,
     "metadata": {},
     "output_type": "execute_result"
    }
   ],
   "source": [
    "stu2: list[int] = []\n",
    "for _ in range(5):\n",
    "    stu2.append(randint(50,100))\n",
    "stu2"
   ]
  },
  {
   "cell_type": "code",
   "execution_count": 21,
   "metadata": {},
   "outputs": [
    {
     "data": {
      "text/plain": [
       "[50, 70, 57, 84, 70]"
      ]
     },
     "execution_count": 21,
     "metadata": {},
     "output_type": "execute_result"
    }
   ],
   "source": [
    "#list comprehension -> 快速建立list\n",
    "#[值 for...in...]\n",
    "stu3: list[int] = [randint(50,100) for _ in range(5)]\n",
    "stu3"
   ]
  }
 ],
 "metadata": {
  "kernelspec": {
   "display_name": "Python 3",
   "language": "python",
   "name": "python3"
  },
  "language_info": {
   "codemirror_mode": {
    "name": "ipython",
    "version": 3
   },
   "file_extension": ".py",
   "mimetype": "text/x-python",
   "name": "python",
   "nbconvert_exporter": "python",
   "pygments_lexer": "ipython3",
   "version": "3.10.13"
  }
 },
 "nbformat": 4,
 "nbformat_minor": 2
}
