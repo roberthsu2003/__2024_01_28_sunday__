{
 "cells": [
  {
   "cell_type": "code",
   "execution_count": 5,
   "metadata": {},
   "outputs": [
    {
     "name": "stdout",
     "output_type": "stream",
     "text": [
      "[['筆記電腦', '商用筆電', '電競筆電'], ['APPLE', 'ASUS', 'HTC'], ['冰箱', '洗衣機', '電視']]\n"
     ]
    }
   ],
   "source": [
    "from pprint import pprint\n",
    "\n",
    "nb: list[str] = ['筆記電腦', '商用筆電','電競筆電'] #type hint\n",
    "mobile: list[str] = ['APPLE', 'ASUS', 'HTC'] \n",
    "home: list[str] = ['冰箱','洗衣機','電視']\n",
    "\n",
    "all3c = [nb, mobile, home]\n",
    "pprint(all3c)"
   ]
  },
  {
   "cell_type": "code",
   "execution_count": 8,
   "metadata": {},
   "outputs": [
    {
     "data": {
      "text/plain": [
       "[['冰箱', '洗衣機', '電視'], ['APPLE', 'ASUS', 'HTC'], ['筆記電腦', '商用筆電', '電競筆電']]"
      ]
     },
     "execution_count": 8,
     "metadata": {},
     "output_type": "execute_result"
    }
   ],
   "source": [
    "#使用list的實體方法,append()\n",
    "all3c: list[list[str]] = []\n",
    "all3c.append(nb)\n",
    "all3c.append(mobile)\n",
    "all3c.append(home)\n",
    "all3c.reverse()\n",
    "all3c"
   ]
  },
  {
   "cell_type": "code",
   "execution_count": 12,
   "metadata": {},
   "outputs": [
    {
     "data": {
      "text/plain": [
       "[95, 100, 83, 91, 95]"
      ]
     },
     "execution_count": 12,
     "metadata": {},
     "output_type": "execute_result"
    }
   ],
   "source": [
    "from random import randint\n",
    "stu1: list[int] = [randint(50,100),randint(50,100),randint(50,100),randint(50,100),randint(50,100)]\n",
    "stu1"
   ]
  },
  {
   "cell_type": "code",
   "execution_count": 17,
   "metadata": {},
   "outputs": [
    {
     "data": {
      "text/plain": [
       "[74, 67, 94, 72, 65]"
      ]
     },
     "execution_count": 17,
     "metadata": {},
     "output_type": "execute_result"
    }
   ],
   "source": [
    "stu2: list[int] = []\n",
    "for _ in range(5):\n",
    "    stu2.append(randint(50,100))\n",
    "stu2"
   ]
  },
  {
   "cell_type": "code",
   "execution_count": 21,
   "metadata": {},
   "outputs": [
    {
     "data": {
      "text/plain": [
       "[50, 70, 57, 84, 70]"
      ]
     },
     "execution_count": 21,
     "metadata": {},
     "output_type": "execute_result"
    }
   ],
   "source": [
    "#list comprehension -> 快速建立list\n",
    "#[值 for...in...]\n",
    "stu3: list[int] = [randint(50,100) for _ in range(5)]\n",
    "stu3"
   ]
  },
  {
   "cell_type": "code",
   "execution_count": 23,
   "metadata": {},
   "outputs": [
    {
     "name": "stdout",
     "output_type": "stream",
     "text": [
      "[[70, 83, 93, 69, 92],\n",
      " [65, 85, 80, 50, 72],\n",
      " [75, 81, 94, 72, 91],\n",
      " [54, 96, 50, 72, 67],\n",
      " [87, 100, 78, 71, 87],\n",
      " [53, 75, 51, 95, 63],\n",
      " [97, 96, 84, 85, 93],\n",
      " [88, 58, 62, 58, 79],\n",
      " [94, 82, 83, 84, 87],\n",
      " [71, 62, 51, 50, 66],\n",
      " [64, 55, 100, 55, 60],\n",
      " [81, 99, 74, 55, 80],\n",
      " [70, 56, 81, 64, 66],\n",
      " [99, 79, 94, 91, 62],\n",
      " [68, 82, 65, 67, 89],\n",
      " [77, 89, 60, 96, 94],\n",
      " [93, 50, 64, 52, 60],\n",
      " [53, 59, 60, 91, 52],\n",
      " [94, 86, 59, 71, 88],\n",
      " [64, 96, 93, 58, 64],\n",
      " [89, 74, 52, 51, 88],\n",
      " [78, 53, 83, 99, 97],\n",
      " [65, 84, 50, 53, 65],\n",
      " [97, 94, 100, 53, 78],\n",
      " [96, 70, 93, 73, 69],\n",
      " [78, 52, 82, 93, 70],\n",
      " [51, 100, 94, 84, 50],\n",
      " [76, 69, 72, 81, 56],\n",
      " [53, 73, 97, 86, 55],\n",
      " [69, 90, 66, 93, 92],\n",
      " [90, 86, 50, 70, 51],\n",
      " [67, 53, 99, 79, 96],\n",
      " [86, 61, 80, 68, 58],\n",
      " [91, 74, 77, 60, 59],\n",
      " [71, 96, 71, 77, 69],\n",
      " [68, 56, 87, 99, 66],\n",
      " [95, 92, 81, 72, 55],\n",
      " [87, 88, 94, 77, 72],\n",
      " [65, 50, 79, 78, 62],\n",
      " [64, 58, 51, 98, 93],\n",
      " [88, 72, 74, 76, 71],\n",
      " [68, 99, 57, 92, 72],\n",
      " [56, 54, 91, 76, 98],\n",
      " [71, 64, 63, 67, 78],\n",
      " [67, 64, 90, 76, 89],\n",
      " [92, 67, 86, 56, 66],\n",
      " [91, 68, 55, 71, 96],\n",
      " [54, 67, 73, 56, 90],\n",
      " [52, 90, 91, 55, 95],\n",
      " [86, 74, 76, 88, 61]]\n"
     ]
    }
   ],
   "source": [
    "from pprint import pprint\n",
    "\n",
    "students:list[list[int]] = []\n",
    "for _ in range(50):\n",
    "    stu: list[int] = [randint(50,100) for _ in range(5)]\n",
    "    students.append(stu)\n",
    "\n",
    "pprint(students)"
   ]
  }
 ],
 "metadata": {
  "kernelspec": {
   "display_name": "Python 3",
   "language": "python",
   "name": "python3"
  },
  "language_info": {
   "codemirror_mode": {
    "name": "ipython",
    "version": 3
   },
   "file_extension": ".py",
   "mimetype": "text/x-python",
   "name": "python",
   "nbconvert_exporter": "python",
   "pygments_lexer": "ipython3",
   "version": "3.10.13"
  }
 },
 "nbformat": 4,
 "nbformat_minor": 2
}
