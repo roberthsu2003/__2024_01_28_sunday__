{
 "cells": [
  {
   "cell_type": "code",
   "execution_count": 1,
   "metadata": {},
   "outputs": [],
   "source": [
    "#list\n",
    "#type hint -> list[int]\n",
    "\n",
    "empty_list:list[int] = []\n",
    "empty_list:list[str] = list()\n",
    "weekday: list[str] = ['星期一', '星期二', '星期三', '星期四', '星期五', '星期六', '星期日']\n",
    "big_birds: list[str] = ['emu', 'ostrich', 'cassowary']"
   ]
  },
  {
   "cell_type": "code",
   "execution_count": 4,
   "metadata": {},
   "outputs": [
    {
     "name": "stdout",
     "output_type": "stream",
     "text": [
      "[]\n",
      "['星期一', '星期二', '星期三', '星期四', '星期五', '星期六', '星期日']\n",
      "['emu', 'ostrich', 'cassowary']\n"
     ]
    }
   ],
   "source": [
    "print(empty_list)\n",
    "print(weekday)\n",
    "print(big_birds)"
   ]
  },
  {
   "cell_type": "code",
   "execution_count": 6,
   "metadata": {},
   "outputs": [
    {
     "data": {
      "text/plain": [
       "['星期一', '星期二', '星期三', '星期四', '星期五', '星期六', 'sunday']"
      ]
     },
     "execution_count": 6,
     "metadata": {},
     "output_type": "execute_result"
    }
   ],
   "source": [
    "#可變變數\n",
    "weekday[6] = 'sunday'\n",
    "weekday"
   ]
  },
  {
   "cell_type": "code",
   "execution_count": 7,
   "metadata": {},
   "outputs": [
    {
     "name": "stdout",
     "output_type": "stream",
     "text": [
      "星期一\n",
      "星期二\n",
      "星期三\n",
      "星期四\n",
      "星期五\n",
      "星期六\n",
      "sunday\n"
     ]
    }
   ],
   "source": [
    "#iterable\n",
    "for day in weekday:\n",
    "    print(day)"
   ]
  },
  {
   "cell_type": "code",
   "execution_count": 10,
   "metadata": {},
   "outputs": [
    {
     "name": "stdout",
     "output_type": "stream",
     "text": [
      "索引編號:0,值是:星期一\n",
      "索引編號:1,值是:星期二\n",
      "索引編號:2,值是:星期三\n",
      "索引編號:3,值是:星期四\n",
      "索引編號:4,值是:星期五\n",
      "索引編號:5,值是:星期六\n",
      "索引編號:6,值是:sunday\n"
     ]
    }
   ],
   "source": [
    "#傳出tuple\n",
    "#使用拆解法\n",
    "for index,value in enumerate(weekday):\n",
    "    print(f'索引編號:{index},值是:{value}')"
   ]
  },
  {
   "cell_type": "code",
   "execution_count": 11,
   "metadata": {},
   "outputs": [
    {
     "data": {
      "text/plain": [
       "['H', 'e', 'l', 'l', 'o', ',', 'W', 'o', 'r', 'l', 'd']"
      ]
     },
     "execution_count": 11,
     "metadata": {},
     "output_type": "execute_result"
    }
   ],
   "source": [
    "#Sequence\n",
    "#iterable\n",
    "#不可變變數\n",
    "'Hello,World'\n",
    "list1 = list('Hello,World')\n",
    "list1"
   ]
  },
  {
   "cell_type": "code",
   "execution_count": 13,
   "metadata": {},
   "outputs": [
    {
     "data": {
      "text/plain": [
       "'d'"
      ]
     },
     "execution_count": 13,
     "metadata": {},
     "output_type": "execute_result"
    }
   ],
   "source": [
    "#索引編號取出值,subscript[索引編號]\n",
    "list1[0] #取出第一個\n",
    "list1[-1] #取出最後一個"
   ]
  },
  {
   "cell_type": "code",
   "execution_count": 18,
   "metadata": {},
   "outputs": [
    {
     "data": {
      "text/plain": [
       "['W', 'o', 'r', 'l']"
      ]
     },
     "execution_count": 18,
     "metadata": {},
     "output_type": "execute_result"
    }
   ],
   "source": [
    "#subscript[前面編號:後面編號] slice\n",
    "list1[0:5]\n",
    "list1[-5:-1] #-1最後一個不包含"
   ]
  },
  {
   "cell_type": "code",
   "execution_count": 20,
   "metadata": {},
   "outputs": [
    {
     "name": "stdout",
     "output_type": "stream",
     "text": [
      "['H', 'e', 'l', 'l', 'o']\n",
      "['W', 'o', 'r', 'l', 'd']\n"
     ]
    }
   ],
   "source": [
    "#subscript[前面編號:後面編號]\n",
    "print(list1[:5]) #前面不寫代表最前面,前5個\n",
    "print(list1[-5:]) #後面不寫,代表的是最後(包含),後5個"
   ]
  }
 ],
 "metadata": {
  "kernelspec": {
   "display_name": "Python 3",
   "language": "python",
   "name": "python3"
  },
  "language_info": {
   "codemirror_mode": {
    "name": "ipython",
    "version": 3
   },
   "file_extension": ".py",
   "mimetype": "text/x-python",
   "name": "python",
   "nbconvert_exporter": "python",
   "pygments_lexer": "ipython3",
   "version": "3.10.13"
  }
 },
 "nbformat": 4,
 "nbformat_minor": 2
}
