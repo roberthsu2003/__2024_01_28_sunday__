{
 "cells": [
  {
   "cell_type": "code",
   "execution_count": 1,
   "metadata": {},
   "outputs": [],
   "source": [
    "with open('names.txt',encoding='utf-8') as file:\n",
    "    names_str:str = file.read()\n",
    "names:list[str] = names_str.split(sep=\"\\n\")"
   ]
  },
  {
   "cell_type": "code",
   "execution_count": 2,
   "metadata": {},
   "outputs": [
    {
     "data": {
      "text/plain": [
       "299"
      ]
     },
     "execution_count": 2,
     "metadata": {},
     "output_type": "execute_result"
    }
   ],
   "source": [
    "len(names)"
   ]
  },
  {
   "cell_type": "code",
   "execution_count": null,
   "metadata": {},
   "outputs": [],
   "source": [
    "import random\n",
    "\n",
    "num = 50\n",
    "randomNames:list[str] = random.choices(names,k=num)\n",
    "randomNames"
   ]
  },
  {
   "cell_type": "code",
   "execution_count": 4,
   "metadata": {},
   "outputs": [
    {
     "data": {
      "text/plain": [
       "Person(name='徐國堂', height=153, weight=88)"
      ]
     },
     "execution_count": 4,
     "metadata": {},
     "output_type": "execute_result"
    }
   ],
   "source": [
    "from pydantic import BaseModel\n",
    "from random import randint\n",
    "\n",
    "class Person(BaseModel):\n",
    "    name:str\n",
    "    height:int\n",
    "    weight:int\n",
    "\n",
    "#實體->dict\n",
    "p1 = Person(name='徐國堂',height=randint(150,195),weight=randint(50,110))\n",
    "p1.model_dump()\n",
    "\n",
    "#dict->實體\n",
    "p2 = Person.model_validate({'name':'徐國堂',\n",
    "                       'height':randint(150,195),\n",
    "                       'weight':randint(50,110)})\n",
    "p2"
   ]
  },
  {
   "cell_type": "code",
   "execution_count": 5,
   "metadata": {},
   "outputs": [
    {
     "data": {
      "text/plain": [
       "[Person(name='潘英迪', height=172, weight=70),\n",
       " Person(name='林佳光', height=189, weight=55),\n",
       " Person(name='林希啟', height=157, weight=95),\n",
       " Person(name='黃政甫', height=176, weight=54),\n",
       " Person(name='金宜芳', height=174, weight=91),\n",
       " Person(name='周家銘', height=153, weight=102),\n",
       " Person(name='潘英迪', height=154, weight=85),\n",
       " Person(name='林義皓', height=174, weight=85),\n",
       " Person(name='陳家維', height=173, weight=51),\n",
       " Person(name='孫火清', height=172, weight=96),\n",
       " Person(name='黃名明', height=152, weight=56),\n",
       " Person(name='聶心怡', height=167, weight=81),\n",
       " Person(name='游倫城', height=192, weight=79),\n",
       " Person(name='王品星', height=158, weight=52),\n",
       " Person(name='柯韋成', height=166, weight=99),\n",
       " Person(name='藍姿婷', height=182, weight=59),\n",
       " Person(name='林志喜', height=165, weight=82),\n",
       " Person(name='李政成', height=151, weight=89),\n",
       " Person(name='林群清', height=186, weight=55),\n",
       " Person(name='尚偉倫', height=150, weight=80),\n",
       " Person(name='蔡世馨', height=167, weight=108),\n",
       " Person(name='陳淑娟', height=152, weight=101),\n",
       " Person(name='王良斌', height=158, weight=101),\n",
       " Person(name='吳麗卿', height=156, weight=110),\n",
       " Person(name='劉依婷', height=182, weight=94),\n",
       " Person(name='黃江旭', height=182, weight=90),\n",
       " Person(name='林志成', height=173, weight=76),\n",
       " Person(name='高智超', height=181, weight=102),\n",
       " Person(name='詹忠光', height=152, weight=79),\n",
       " Person(name='高智超', height=193, weight=60),\n",
       " Person(name='黃柏宇', height=179, weight=69),\n",
       " Person(name='藍哲嘉', height=180, weight=65),\n",
       " Person(name='王梅劭', height=155, weight=75),\n",
       " Person(name='謝南慧', height=178, weight=87),\n",
       " Person(name='黃婷婷', height=164, weight=60),\n",
       " Person(name='陳怡珊', height=167, weight=87),\n",
       " Person(name='陳建香', height=159, weight=91),\n",
       " Person(name='高士凱', height=155, weight=61),\n",
       " Person(name='鄭淑珍', height=171, weight=86),\n",
       " Person(name='張明惟', height=167, weight=50),\n",
       " Person(name='劉昀天', height=183, weight=66),\n",
       " Person(name='陳怡珊', height=158, weight=86),\n",
       " Person(name='朱惠儀', height=170, weight=89),\n",
       " Person(name='鄭憲定', height=183, weight=96),\n",
       " Person(name='黃嘉琪', height=161, weight=70),\n",
       " Person(name='余宗儒', height=162, weight=53),\n",
       " Person(name='鄧淑娟', height=150, weight=91),\n",
       " Person(name='陳倩潔', height=169, weight=74),\n",
       " Person(name='林向鈺', height=169, weight=94),\n",
       " Person(name='王坤安', height=152, weight=96)]"
      ]
     },
     "execution_count": 5,
     "metadata": {},
     "output_type": "execute_result"
    }
   ],
   "source": [
    "persons:list[Person] = []\n",
    "for name in randomNames:\n",
    "    person = Person(name=name,\n",
    "           height=randint(150,195),\n",
    "           weight=randint(50,110))\n",
    "    persons.append(person)\n",
    "persons"
   ]
  },
  {
   "cell_type": "code",
   "execution_count": null,
   "metadata": {},
   "outputs": [],
   "source": []
  }
 ],
 "metadata": {
  "kernelspec": {
   "display_name": "Python 3",
   "language": "python",
   "name": "python3"
  },
  "language_info": {
   "codemirror_mode": {
    "name": "ipython",
    "version": 3
   },
   "file_extension": ".py",
   "mimetype": "text/x-python",
   "name": "python",
   "nbconvert_exporter": "python",
   "pygments_lexer": "ipython3",
   "version": "3.10.13"
  }
 },
 "nbformat": 4,
 "nbformat_minor": 2
}
