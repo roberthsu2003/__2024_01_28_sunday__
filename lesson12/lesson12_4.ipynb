{
 "cells": [
  {
   "cell_type": "code",
   "execution_count": 5,
   "metadata": {},
   "outputs": [],
   "source": [
    "with open('names.txt',encoding='utf-8') as file:\n",
    "    names_str:str = file.read()\n",
    "names:list[str] = names_str.split(sep=\"\\n\")"
   ]
  },
  {
   "cell_type": "code",
   "execution_count": 7,
   "metadata": {},
   "outputs": [
    {
     "data": {
      "text/plain": [
       "299"
      ]
     },
     "execution_count": 7,
     "metadata": {},
     "output_type": "execute_result"
    }
   ],
   "source": [
    "len(names)"
   ]
  },
  {
   "cell_type": "code",
   "execution_count": null,
   "metadata": {},
   "outputs": [],
   "source": [
    "import random\n",
    "\n",
    "num = 50\n",
    "randomNames:list[str] = random.choices(names,k=num)\n",
    "randomNames"
   ]
  },
  {
   "cell_type": "code",
   "execution_count": 13,
   "metadata": {},
   "outputs": [
    {
     "data": {
      "text/plain": [
       "Person(name='徐國堂', height=151, weight=51)"
      ]
     },
     "execution_count": 13,
     "metadata": {},
     "output_type": "execute_result"
    }
   ],
   "source": [
    "from pydantic import BaseModel\n",
    "from random import randint\n",
    "\n",
    "class Person(BaseModel):\n",
    "    name:str\n",
    "    height:int\n",
    "    weight:int\n",
    "\n",
    "#實體->dict\n",
    "p1 = Person(name='徐國堂',height=randint(150,195),weight=randint(50,110))\n",
    "p1.model_dump()\n",
    "\n",
    "#dict->實體\n",
    "p2 = Person.model_validate({'name':'徐國堂',\n",
    "                       'height':randint(150,195),\n",
    "                       'weight':randint(50,110)})\n",
    "p2"
   ]
  },
  {
   "cell_type": "code",
   "execution_count": 16,
   "metadata": {},
   "outputs": [
    {
     "data": {
      "text/plain": [
       "[Person(name='林志成', height=170, weight=54),\n",
       " Person(name='林俊翔', height=154, weight=51),\n",
       " Person(name='王雅琴', height=173, weight=69),\n",
       " Person(name='唐翊修', height=175, weight=77),\n",
       " Person(name='楊健麟', height=169, weight=105),\n",
       " Person(name='方雅慧', height=185, weight=67),\n",
       " Person(name='黃佩芬', height=159, weight=79),\n",
       " Person(name='李湘婷', height=161, weight=103),\n",
       " Person(name='郭坤花', height=190, weight=110),\n",
       " Person(name='林建宏', height=158, weight=76),\n",
       " Person(name='林清英', height=151, weight=109),\n",
       " Person(name='陳樂紫', height=183, weight=96),\n",
       " Person(name='陳凱翔', height=177, weight=72),\n",
       " Person(name='林義皓', height=183, weight=55),\n",
       " Person(name='林珍旺', height=188, weight=107),\n",
       " Person(name='鄭孟芳', height=184, weight=58),\n",
       " Person(name='王柏聖', height=175, weight=59),\n",
       " Person(name='王良斌', height=193, weight=97),\n",
       " Person(name='郭淑枝', height=171, weight=77),\n",
       " Person(name='張俊傑', height=193, weight=82),\n",
       " Person(name='杜儀鳳', height=163, weight=77),\n",
       " Person(name='聶心怡', height=168, weight=98),\n",
       " Person(name='藍哲嘉', height=169, weight=74),\n",
       " Person(name='王雅慧', height=182, weight=87),\n",
       " Person(name='楊又源', height=158, weight=70),\n",
       " Person(name='吳柏誠', height=168, weight=54),\n",
       " Person(name='鄭奇翰', height=179, weight=52),\n",
       " Person(name='蔡明平', height=150, weight=83),\n",
       " Person(name='張軒宸', height=157, weight=103),\n",
       " Person(name='龔姵君', height=169, weight=101),\n",
       " Person(name='吳柏誠', height=171, weight=101),\n",
       " Person(name='陳冠竹', height=178, weight=92),\n",
       " Person(name='張彥博', height=152, weight=94),\n",
       " Person(name='林俊翔', height=168, weight=56),\n",
       " Person(name='潘英迪', height=195, weight=79),\n",
       " Person(name='呂傑宣', height=157, weight=75),\n",
       " Person(name='游倫城', height=185, weight=56),\n",
       " Person(name='彭虹屏', height=171, weight=74),\n",
       " Person(name='林向鈺', height=152, weight=82),\n",
       " Person(name='楊綺芬', height=172, weight=63),\n",
       " Person(name='鄭淑珍', height=156, weight=74),\n",
       " Person(name='鄭奇翰', height=159, weight=53),\n",
       " Person(name='林義皓', height=161, weight=58),\n",
       " Person(name='游倫城', height=177, weight=58),\n",
       " Person(name='周家銘', height=172, weight=96),\n",
       " Person(name='白美珍', height=175, weight=85),\n",
       " Person(name='黃名明', height=181, weight=108),\n",
       " Person(name='林益妏', height=155, weight=54),\n",
       " Person(name='劉林中', height=167, weight=78),\n",
       " Person(name='羅佩樺', height=182, weight=61)]"
      ]
     },
     "execution_count": 16,
     "metadata": {},
     "output_type": "execute_result"
    }
   ],
   "source": [
    "persons:list[Person] = []\n",
    "for name in randomNames:\n",
    "    person = Person(name=name,\n",
    "           height=randint(150,195),\n",
    "           weight=randint(50,110))\n",
    "    persons.append(person)\n",
    "persons"
   ]
  },
  {
   "cell_type": "code",
   "execution_count": null,
   "metadata": {},
   "outputs": [],
   "source": []
  }
 ],
 "metadata": {
  "kernelspec": {
   "display_name": "Python 3",
   "language": "python",
   "name": "python3"
  },
  "language_info": {
   "codemirror_mode": {
    "name": "ipython",
    "version": 3
   },
   "file_extension": ".py",
   "mimetype": "text/x-python",
   "name": "python",
   "nbconvert_exporter": "python",
   "pygments_lexer": "ipython3",
   "version": "3.10.13"
  }
 },
 "nbformat": 4,
 "nbformat_minor": 2
}
