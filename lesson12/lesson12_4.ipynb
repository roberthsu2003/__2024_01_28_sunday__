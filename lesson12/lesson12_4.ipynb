{
 "cells": [
  {
   "cell_type": "code",
   "execution_count": 5,
   "metadata": {},
   "outputs": [],
   "source": [
    "with open('names.txt',encoding='utf-8') as file:\n",
    "    names_str:str = file.read()\n",
    "names:list[str] = names_str.split(sep=\"\\n\")"
   ]
  },
  {
   "cell_type": "code",
   "execution_count": 7,
   "metadata": {},
   "outputs": [
    {
     "data": {
      "text/plain": [
       "299"
      ]
     },
     "execution_count": 7,
     "metadata": {},
     "output_type": "execute_result"
    }
   ],
   "source": [
    "len(names)"
   ]
  },
  {
   "cell_type": "code",
   "execution_count": 9,
   "metadata": {},
   "outputs": [
    {
     "data": {
      "text/plain": [
       "['林志成',\n",
       " '林俊翔',\n",
       " '王雅琴',\n",
       " '唐翊修',\n",
       " '楊健麟',\n",
       " '方雅慧',\n",
       " '黃佩芬',\n",
       " '李湘婷',\n",
       " '郭坤花',\n",
       " '林建宏',\n",
       " '林清英',\n",
       " '陳樂紫',\n",
       " '陳凱翔',\n",
       " '林義皓',\n",
       " '林珍旺',\n",
       " '鄭孟芳',\n",
       " '王柏聖',\n",
       " '王良斌',\n",
       " '郭淑枝',\n",
       " '張俊傑',\n",
       " '杜儀鳳',\n",
       " '聶心怡',\n",
       " '藍哲嘉',\n",
       " '王雅慧',\n",
       " '楊又源',\n",
       " '吳柏誠',\n",
       " '鄭奇翰',\n",
       " '蔡明平',\n",
       " '張軒宸',\n",
       " '龔姵君',\n",
       " '吳柏誠',\n",
       " '陳冠竹',\n",
       " '張彥博',\n",
       " '林俊翔',\n",
       " '潘英迪',\n",
       " '呂傑宣',\n",
       " '游倫城',\n",
       " '彭虹屏',\n",
       " '林向鈺',\n",
       " '楊綺芬',\n",
       " '鄭淑珍',\n",
       " '鄭奇翰',\n",
       " '林義皓',\n",
       " '游倫城',\n",
       " '周家銘',\n",
       " '白美珍',\n",
       " '黃名明',\n",
       " '林益妏',\n",
       " '劉林中',\n",
       " '羅佩樺']"
      ]
     },
     "execution_count": 9,
     "metadata": {},
     "output_type": "execute_result"
    }
   ],
   "source": [
    "import random\n",
    "\n",
    "num = 50\n",
    "randomNames:list[str] = random.choices(names,k=num)\n",
    "randomNames"
   ]
  }
 ],
 "metadata": {
  "kernelspec": {
   "display_name": "Python 3",
   "language": "python",
   "name": "python3"
  },
  "language_info": {
   "codemirror_mode": {
    "name": "ipython",
    "version": 3
   },
   "file_extension": ".py",
   "mimetype": "text/x-python",
   "name": "python",
   "nbconvert_exporter": "python",
   "pygments_lexer": "ipython3",
   "version": "3.10.13"
  }
 },
 "nbformat": 4,
 "nbformat_minor": 2
}
