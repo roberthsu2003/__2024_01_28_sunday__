{
 "cells": [
  {
   "cell_type": "code",
   "execution_count": 1,
   "metadata": {},
   "outputs": [
    {
     "data": {
      "text/plain": [
       "{'國文': 78, '英文': 86, '數學': 92, '地理': 65, '歷史': 91}"
      ]
     },
     "execution_count": 1,
     "metadata": {},
     "output_type": "execute_result"
    }
   ],
   "source": [
    "#建立學生分數\n",
    "score = {'國文':78,\n",
    "         '英文':86,\n",
    "         '數學':92,\n",
    "         '地理':65,\n",
    "         '歷史':91}\n",
    "score"
   ]
  },
  {
   "cell_type": "code",
   "execution_count": 6,
   "metadata": {},
   "outputs": [
    {
     "name": "stdout",
     "output_type": "stream",
     "text": [
      "<class '__main__.Student'>\n"
     ]
    },
    {
     "data": {
      "text/plain": [
       "(78, 86, 92, 65, 92)"
      ]
     },
     "execution_count": 6,
     "metadata": {},
     "output_type": "execute_result"
    }
   ],
   "source": [
    "#自定一個class Student,自訂資料類型Student\n",
    "class Student:\n",
    "    pass\n",
    "\n",
    "stu1 = Student()\n",
    "print(type(stu1))\n",
    "stu1.國文 = 78\n",
    "stu1.英文 = 86\n",
    "stu1.數學 = 92\n",
    "stu1.地理 = 65\n",
    "stu1.歷史 = 92\n",
    "stu1.國文, stu1.英文, stu1.數學, stu1.地理, stu1.歷史"
   ]
  },
  {
   "cell_type": "code",
   "execution_count": 9,
   "metadata": {},
   "outputs": [
    {
     "data": {
      "text/plain": [
       "Student(國文=78, 英文=86, 數學=92, 地理=65, 歷史=92)"
      ]
     },
     "execution_count": 9,
     "metadata": {},
     "output_type": "execute_result"
    }
   ],
   "source": [
    "from pydantic import BaseModel\n",
    "\n",
    "class Student(BaseModel):\n",
    "    國文:int\n",
    "    英文:int\n",
    "    數學:int\n",
    "    地理:int\n",
    "    歷史:int\n",
    "\n",
    "stu1 = Student(國文=78,英文=86,數學=92,地理=65,歷史=92)\n",
    "stu1"
   ]
  }
 ],
 "metadata": {
  "kernelspec": {
   "display_name": "Python 3",
   "language": "python",
   "name": "python3"
  },
  "language_info": {
   "codemirror_mode": {
    "name": "ipython",
    "version": 3
   },
   "file_extension": ".py",
   "mimetype": "text/x-python",
   "name": "python",
   "nbconvert_exporter": "python",
   "pygments_lexer": "ipython3",
   "version": "3.10.13"
  }
 },
 "nbformat": 4,
 "nbformat_minor": 2
}
