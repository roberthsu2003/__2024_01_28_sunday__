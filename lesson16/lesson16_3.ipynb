{
 "cells": [
  {
   "cell_type": "code",
   "execution_count": 1,
   "metadata": {},
   "outputs": [
    {
     "name": "stdout",
     "output_type": "stream",
     "text": [
      "下載成功\n"
     ]
    }
   ],
   "source": [
    "import requests\n",
    "from requests import Response\n",
    "aqi_url = 'https://data.moenv.gov.tw/api/v2/aqx_p_488?api_key=e8dd42e6-9b8b-43f8-991e-b3dee723a52d&limit=1000&sort=datacreationdate desc&format=JSON'\n",
    "response:Response = requests.get(aqi_url)\n",
    "if response.status_code == 200:\n",
    "    print(\"下載成功\")\n",
    "else:\n",
    "    print(\"下載失敗\")\n"
   ]
  },
  {
   "cell_type": "code",
   "execution_count": 5,
   "metadata": {},
   "outputs": [],
   "source": [
    "#python的資料結構\n",
    "data_base:dict = response.json()"
   ]
  },
  {
   "cell_type": "code",
   "execution_count": null,
   "metadata": {},
   "outputs": [],
   "source": [
    "#json的字串格式\n",
    "from pprint import pprint\n",
    "pprint(response.text)\n",
    "data_json:str = response.text"
   ]
  },
  {
   "cell_type": "code",
   "execution_count": 6,
   "metadata": {},
   "outputs": [],
   "source": [
    "from pydantic import BaseModel,Field\n",
    "\n",
    "class Site(BaseModel):\n",
    "    站點:str = Field(alias='sitename')\n",
    "    縣市:str = Field(alias='county')\n",
    "    aqi:int = Field(alias='aqi')\n",
    "    pm25:float = Field(alias='pm2.5_avg')\n",
    "    時間:str = Field(alias='datacreationdate')\n",
    "\n",
    "\n",
    "class AQI(BaseModel):\n",
    "    records:list[Site]\n",
    "\n",
    "\n"
   ]
  },
  {
   "cell_type": "code",
   "execution_count": null,
   "metadata": {},
   "outputs": [],
   "source": [
    "AQI.model_validate(data_base)"
   ]
  },
  {
   "cell_type": "code",
   "execution_count": 9,
   "metadata": {},
   "outputs": [
    {
     "ename": "ValidationError",
     "evalue": "12 validation errors for AQI\nrecords.63.`pm2.5_avg`\n  Input should be a valid number, unable to parse string as a number [type=float_parsing, input_value='', input_type=str]\n    For further information visit https://errors.pydantic.dev/2.6/v/float_parsing\nrecords.147.`pm2.5_avg`\n  Input should be a valid number, unable to parse string as a number [type=float_parsing, input_value='', input_type=str]\n    For further information visit https://errors.pydantic.dev/2.6/v/float_parsing\nrecords.231.`pm2.5_avg`\n  Input should be a valid number, unable to parse string as a number [type=float_parsing, input_value='', input_type=str]\n    For further information visit https://errors.pydantic.dev/2.6/v/float_parsing\nrecords.315.`pm2.5_avg`\n  Input should be a valid number, unable to parse string as a number [type=float_parsing, input_value='', input_type=str]\n    For further information visit https://errors.pydantic.dev/2.6/v/float_parsing\nrecords.399.`pm2.5_avg`\n  Input should be a valid number, unable to parse string as a number [type=float_parsing, input_value='', input_type=str]\n    For further information visit https://errors.pydantic.dev/2.6/v/float_parsing\nrecords.483.`pm2.5_avg`\n  Input should be a valid number, unable to parse string as a number [type=float_parsing, input_value='', input_type=str]\n    For further information visit https://errors.pydantic.dev/2.6/v/float_parsing\nrecords.567.`pm2.5_avg`\n  Input should be a valid number, unable to parse string as a number [type=float_parsing, input_value='', input_type=str]\n    For further information visit https://errors.pydantic.dev/2.6/v/float_parsing\nrecords.651.`pm2.5_avg`\n  Input should be a valid number, unable to parse string as a number [type=float_parsing, input_value='', input_type=str]\n    For further information visit https://errors.pydantic.dev/2.6/v/float_parsing\nrecords.735.`pm2.5_avg`\n  Input should be a valid number, unable to parse string as a number [type=float_parsing, input_value='', input_type=str]\n    For further information visit https://errors.pydantic.dev/2.6/v/float_parsing\nrecords.819.`pm2.5_avg`\n  Input should be a valid number, unable to parse string as a number [type=float_parsing, input_value='', input_type=str]\n    For further information visit https://errors.pydantic.dev/2.6/v/float_parsing\nrecords.903.`pm2.5_avg`\n  Input should be a valid number, unable to parse string as a number [type=float_parsing, input_value='', input_type=str]\n    For further information visit https://errors.pydantic.dev/2.6/v/float_parsing\nrecords.987.`pm2.5_avg`\n  Input should be a valid number, unable to parse string as a number [type=float_parsing, input_value='', input_type=str]\n    For further information visit https://errors.pydantic.dev/2.6/v/float_parsing",
     "output_type": "error",
     "traceback": [
      "\u001b[0;31m---------------------------------------------------------------------------\u001b[0m",
      "\u001b[0;31mValidationError\u001b[0m                           Traceback (most recent call last)",
      "Cell \u001b[0;32mIn[9], line 1\u001b[0m\n\u001b[0;32m----> 1\u001b[0m \u001b[43mAQI\u001b[49m\u001b[38;5;241;43m.\u001b[39;49m\u001b[43mmodel_validate_json\u001b[49m\u001b[43m(\u001b[49m\u001b[43mdata_json\u001b[49m\u001b[43m)\u001b[49m\n",
      "File \u001b[0;32m~/.local/lib/python3.10/site-packages/pydantic/main.py:538\u001b[0m, in \u001b[0;36mBaseModel.model_validate_json\u001b[0;34m(cls, json_data, strict, context)\u001b[0m\n\u001b[1;32m    536\u001b[0m \u001b[38;5;66;03m# `__tracebackhide__` tells pytest and some other tools to omit this function from tracebacks\u001b[39;00m\n\u001b[1;32m    537\u001b[0m __tracebackhide__ \u001b[38;5;241m=\u001b[39m \u001b[38;5;28;01mTrue\u001b[39;00m\n\u001b[0;32m--> 538\u001b[0m \u001b[38;5;28;01mreturn\u001b[39;00m \u001b[38;5;28;43mcls\u001b[39;49m\u001b[38;5;241;43m.\u001b[39;49m\u001b[43m__pydantic_validator__\u001b[49m\u001b[38;5;241;43m.\u001b[39;49m\u001b[43mvalidate_json\u001b[49m\u001b[43m(\u001b[49m\u001b[43mjson_data\u001b[49m\u001b[43m,\u001b[49m\u001b[43m \u001b[49m\u001b[43mstrict\u001b[49m\u001b[38;5;241;43m=\u001b[39;49m\u001b[43mstrict\u001b[49m\u001b[43m,\u001b[49m\u001b[43m \u001b[49m\u001b[43mcontext\u001b[49m\u001b[38;5;241;43m=\u001b[39;49m\u001b[43mcontext\u001b[49m\u001b[43m)\u001b[49m\n",
      "\u001b[0;31mValidationError\u001b[0m: 12 validation errors for AQI\nrecords.63.`pm2.5_avg`\n  Input should be a valid number, unable to parse string as a number [type=float_parsing, input_value='', input_type=str]\n    For further information visit https://errors.pydantic.dev/2.6/v/float_parsing\nrecords.147.`pm2.5_avg`\n  Input should be a valid number, unable to parse string as a number [type=float_parsing, input_value='', input_type=str]\n    For further information visit https://errors.pydantic.dev/2.6/v/float_parsing\nrecords.231.`pm2.5_avg`\n  Input should be a valid number, unable to parse string as a number [type=float_parsing, input_value='', input_type=str]\n    For further information visit https://errors.pydantic.dev/2.6/v/float_parsing\nrecords.315.`pm2.5_avg`\n  Input should be a valid number, unable to parse string as a number [type=float_parsing, input_value='', input_type=str]\n    For further information visit https://errors.pydantic.dev/2.6/v/float_parsing\nrecords.399.`pm2.5_avg`\n  Input should be a valid number, unable to parse string as a number [type=float_parsing, input_value='', input_type=str]\n    For further information visit https://errors.pydantic.dev/2.6/v/float_parsing\nrecords.483.`pm2.5_avg`\n  Input should be a valid number, unable to parse string as a number [type=float_parsing, input_value='', input_type=str]\n    For further information visit https://errors.pydantic.dev/2.6/v/float_parsing\nrecords.567.`pm2.5_avg`\n  Input should be a valid number, unable to parse string as a number [type=float_parsing, input_value='', input_type=str]\n    For further information visit https://errors.pydantic.dev/2.6/v/float_parsing\nrecords.651.`pm2.5_avg`\n  Input should be a valid number, unable to parse string as a number [type=float_parsing, input_value='', input_type=str]\n    For further information visit https://errors.pydantic.dev/2.6/v/float_parsing\nrecords.735.`pm2.5_avg`\n  Input should be a valid number, unable to parse string as a number [type=float_parsing, input_value='', input_type=str]\n    For further information visit https://errors.pydantic.dev/2.6/v/float_parsing\nrecords.819.`pm2.5_avg`\n  Input should be a valid number, unable to parse string as a number [type=float_parsing, input_value='', input_type=str]\n    For further information visit https://errors.pydantic.dev/2.6/v/float_parsing\nrecords.903.`pm2.5_avg`\n  Input should be a valid number, unable to parse string as a number [type=float_parsing, input_value='', input_type=str]\n    For further information visit https://errors.pydantic.dev/2.6/v/float_parsing\nrecords.987.`pm2.5_avg`\n  Input should be a valid number, unable to parse string as a number [type=float_parsing, input_value='', input_type=str]\n    For further information visit https://errors.pydantic.dev/2.6/v/float_parsing"
     ]
    }
   ],
   "source": [
    "AQI.model_validate_json(data_json)"
   ]
  }
 ],
 "metadata": {
  "kernelspec": {
   "display_name": "Python 3",
   "language": "python",
   "name": "python3"
  },
  "language_info": {
   "codemirror_mode": {
    "name": "ipython",
    "version": 3
   },
   "file_extension": ".py",
   "mimetype": "text/x-python",
   "name": "python",
   "nbconvert_exporter": "python",
   "pygments_lexer": "ipython3",
   "version": "3.10.13"
  }
 },
 "nbformat": 4,
 "nbformat_minor": 2
}
