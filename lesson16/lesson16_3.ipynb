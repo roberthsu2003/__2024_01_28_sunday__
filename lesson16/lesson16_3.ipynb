{
 "cells": [
  {
   "cell_type": "code",
   "execution_count": 1,
   "metadata": {},
   "outputs": [
    {
     "name": "stdout",
     "output_type": "stream",
     "text": [
      "下載成功\n"
     ]
    }
   ],
   "source": [
    "import requests\n",
    "from requests import Response\n",
    "aqi_url = 'https://data.moenv.gov.tw/api/v2/aqx_p_488?api_key=e8dd42e6-9b8b-43f8-991e-b3dee723a52d&limit=1000&sort=datacreationdate desc&format=JSON'\n",
    "response:Response = requests.get(aqi_url)\n",
    "if response.status_code == 200:\n",
    "    print(\"下載成功\")\n",
    "else:\n",
    "    print(\"下載失敗\")\n"
   ]
  },
  {
   "cell_type": "code",
   "execution_count": 5,
   "metadata": {},
   "outputs": [],
   "source": [
    "#python的資料結構\n",
    "data_base:dict = response.json()"
   ]
  },
  {
   "cell_type": "code",
   "execution_count": null,
   "metadata": {},
   "outputs": [],
   "source": [
    "#json的字串格式\n",
    "from pprint import pprint\n",
    "pprint(response.text)\n",
    "data_json:str = response.text"
   ]
  },
  {
   "cell_type": "code",
   "execution_count": 20,
   "metadata": {},
   "outputs": [],
   "source": [
    "from pydantic import BaseModel,Field,field_validator\n",
    "\n",
    "class Site(BaseModel):\n",
    "    站點:str = Field(alias='sitename')\n",
    "    縣市:str = Field(alias='county')\n",
    "    aqi:int = Field(alias='aqi')\n",
    "    pm25:float = Field(alias='pm2.5_avg')\n",
    "    時間:str = Field(alias='datacreationdate')\n",
    "\n",
    "    @field_validator('pm25',mode='before')\n",
    "    @classmethod\n",
    "    def space_zeor(cls,value):\n",
    "        #print(type(value))\n",
    "        if value == '':\n",
    "            return '0.0'\n",
    "        return value\n",
    "\n",
    "\n",
    "class AQI(BaseModel):\n",
    "    records:list[Site]\n",
    "\n",
    "\n"
   ]
  },
  {
   "cell_type": "code",
   "execution_count": null,
   "metadata": {},
   "outputs": [],
   "source": [
    "AQI.model_validate(data_base)"
   ]
  },
  {
   "cell_type": "code",
   "execution_count": null,
   "metadata": {},
   "outputs": [],
   "source": [
    "aqi = AQI.model_validate_json(data_json)\n",
    "source_data = aqi.model_dump()['records']\n",
    "source_data"
   ]
  },
  {
   "cell_type": "code",
   "execution_count": 25,
   "metadata": {},
   "outputs": [
    {
     "data": {
      "text/html": [
       "<div>\n",
       "<style scoped>\n",
       "    .dataframe tbody tr th:only-of-type {\n",
       "        vertical-align: middle;\n",
       "    }\n",
       "\n",
       "    .dataframe tbody tr th {\n",
       "        vertical-align: top;\n",
       "    }\n",
       "\n",
       "    .dataframe thead th {\n",
       "        text-align: right;\n",
       "    }\n",
       "</style>\n",
       "<table border=\"1\" class=\"dataframe\">\n",
       "  <thead>\n",
       "    <tr style=\"text-align: right;\">\n",
       "      <th></th>\n",
       "      <th>站點</th>\n",
       "      <th>縣市</th>\n",
       "      <th>aqi</th>\n",
       "      <th>pm25</th>\n",
       "      <th>時間</th>\n",
       "    </tr>\n",
       "  </thead>\n",
       "  <tbody>\n",
       "    <tr>\n",
       "      <th>0</th>\n",
       "      <td>屏東(枋山)</td>\n",
       "      <td>屏東縣</td>\n",
       "      <td>31</td>\n",
       "      <td>9.2</td>\n",
       "      <td>2024-03-24 14:00</td>\n",
       "    </tr>\n",
       "    <tr>\n",
       "      <th>1</th>\n",
       "      <td>新北(樹林)</td>\n",
       "      <td>新北市</td>\n",
       "      <td>63</td>\n",
       "      <td>20.5</td>\n",
       "      <td>2024-03-24 14:00</td>\n",
       "    </tr>\n",
       "    <tr>\n",
       "      <th>2</th>\n",
       "      <td>屏東(琉球)</td>\n",
       "      <td>屏東縣</td>\n",
       "      <td>43</td>\n",
       "      <td>13.1</td>\n",
       "      <td>2024-03-24 14:00</td>\n",
       "    </tr>\n",
       "    <tr>\n",
       "      <th>3</th>\n",
       "      <td>臺南(麻豆)</td>\n",
       "      <td>臺南市</td>\n",
       "      <td>47</td>\n",
       "      <td>14.5</td>\n",
       "      <td>2024-03-24 14:00</td>\n",
       "    </tr>\n",
       "    <tr>\n",
       "      <th>4</th>\n",
       "      <td>高雄(湖內)</td>\n",
       "      <td>高雄市</td>\n",
       "      <td>31</td>\n",
       "      <td>9.0</td>\n",
       "      <td>2024-03-24 14:00</td>\n",
       "    </tr>\n",
       "    <tr>\n",
       "      <th>...</th>\n",
       "      <td>...</td>\n",
       "      <td>...</td>\n",
       "      <td>...</td>\n",
       "      <td>...</td>\n",
       "      <td>...</td>\n",
       "    </tr>\n",
       "    <tr>\n",
       "      <th>995</th>\n",
       "      <td>萬華</td>\n",
       "      <td>臺北市</td>\n",
       "      <td>70</td>\n",
       "      <td>23.2</td>\n",
       "      <td>2024-03-24 03:00</td>\n",
       "    </tr>\n",
       "    <tr>\n",
       "      <th>996</th>\n",
       "      <td>中山</td>\n",
       "      <td>臺北市</td>\n",
       "      <td>65</td>\n",
       "      <td>21.3</td>\n",
       "      <td>2024-03-24 03:00</td>\n",
       "    </tr>\n",
       "    <tr>\n",
       "      <th>997</th>\n",
       "      <td>士林</td>\n",
       "      <td>臺北市</td>\n",
       "      <td>59</td>\n",
       "      <td>18.9</td>\n",
       "      <td>2024-03-24 03:00</td>\n",
       "    </tr>\n",
       "    <tr>\n",
       "      <th>998</th>\n",
       "      <td>淡水</td>\n",
       "      <td>新北市</td>\n",
       "      <td>53</td>\n",
       "      <td>16.3</td>\n",
       "      <td>2024-03-24 03:00</td>\n",
       "    </tr>\n",
       "    <tr>\n",
       "      <th>999</th>\n",
       "      <td>林口</td>\n",
       "      <td>新北市</td>\n",
       "      <td>54</td>\n",
       "      <td>16.6</td>\n",
       "      <td>2024-03-24 03:00</td>\n",
       "    </tr>\n",
       "  </tbody>\n",
       "</table>\n",
       "<p>1000 rows × 5 columns</p>\n",
       "</div>"
      ],
      "text/plain": [
       "         站點   縣市  aqi  pm25                時間\n",
       "0    屏東(枋山)  屏東縣   31   9.2  2024-03-24 14:00\n",
       "1    新北(樹林)  新北市   63  20.5  2024-03-24 14:00\n",
       "2    屏東(琉球)  屏東縣   43  13.1  2024-03-24 14:00\n",
       "3    臺南(麻豆)  臺南市   47  14.5  2024-03-24 14:00\n",
       "4    高雄(湖內)  高雄市   31   9.0  2024-03-24 14:00\n",
       "..      ...  ...  ...   ...               ...\n",
       "995      萬華  臺北市   70  23.2  2024-03-24 03:00\n",
       "996      中山  臺北市   65  21.3  2024-03-24 03:00\n",
       "997      士林  臺北市   59  18.9  2024-03-24 03:00\n",
       "998      淡水  新北市   53  16.3  2024-03-24 03:00\n",
       "999      林口  新北市   54  16.6  2024-03-24 03:00\n",
       "\n",
       "[1000 rows x 5 columns]"
      ]
     },
     "execution_count": 25,
     "metadata": {},
     "output_type": "execute_result"
    }
   ],
   "source": [
    "import pandas as pd\n",
    "df1 = pd.DataFrame(source_data)\n",
    "df1"
   ]
  }
 ],
 "metadata": {
  "kernelspec": {
   "display_name": "Python 3",
   "language": "python",
   "name": "python3"
  },
  "language_info": {
   "codemirror_mode": {
    "name": "ipython",
    "version": 3
   },
   "file_extension": ".py",
   "mimetype": "text/x-python",
   "name": "python",
   "nbconvert_exporter": "python",
   "pygments_lexer": "ipython3",
   "version": "3.10.13"
  }
 },
 "nbformat": 4,
 "nbformat_minor": 2
}
