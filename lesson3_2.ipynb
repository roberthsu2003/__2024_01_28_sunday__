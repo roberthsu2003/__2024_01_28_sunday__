{
 "cells": [
  {
   "cell_type": "code",
   "execution_count": 1,
   "metadata": {},
   "outputs": [
    {
     "name": "stdout",
     "output_type": "stream",
     "text": [
      "您的身高:172公分\n",
      "您的體重:65公斤\n",
      "您的BMI:21.971335857220122\n"
     ]
    }
   ],
   "source": [
    "# BMI值計算公式:    BMI = 體重(公斤) / 身高2(公尺2)\n",
    "\n",
    "height = eval(input(\"請輸入身高(公分):\"))\n",
    "weight = eval(input(\"請輸入體重(公斤):\"))\n",
    "bmi = weight / (height/100) ** 2\n",
    "print('您的身高:',height,'公分',sep='')\n",
    "print('您的體重:',weight,\"公斤\",sep='')\n",
    "print('您的BMI:',bmi,sep='')"
   ]
  }
 ],
 "metadata": {
  "kernelspec": {
   "display_name": "Python 3",
   "language": "python",
   "name": "python3"
  },
  "language_info": {
   "codemirror_mode": {
    "name": "ipython",
    "version": 3
   },
   "file_extension": ".py",
   "mimetype": "text/x-python",
   "name": "python",
   "nbconvert_exporter": "python",
   "pygments_lexer": "ipython3",
   "version": "3.10.13"
  }
 },
 "nbformat": 4,
 "nbformat_minor": 2
}
