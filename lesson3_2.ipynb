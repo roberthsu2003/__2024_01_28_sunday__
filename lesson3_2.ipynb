{
 "cells": [
  {
   "cell_type": "code",
   "execution_count": 6,
   "metadata": {},
   "outputs": [
    {
     "name": "stdout",
     "output_type": "stream",
     "text": [
      "您的身高:172公分\n",
      "您的體重:65公斤\n",
      "您的BMI:21.97\n"
     ]
    }
   ],
   "source": [
    "# BMI值計算公式:    BMI = 體重(公斤) / 身高2(公尺2)\n",
    "\n",
    "height = eval(input(\"請輸入身高(公分):\"))\n",
    "weight = eval(input(\"請輸入體重(公斤):\"))\n",
    "bmi = weight / (height/100) ** 2\n",
    "print('您的身高:',height,'公分',sep='')\n",
    "print('您的體重:',weight,\"公斤\",sep='')\n",
    "print('您的BMI:',round(bmi,ndigits=2),sep='')"
   ]
  },
  {
   "cell_type": "code",
   "execution_count": 5,
   "metadata": {},
   "outputs": [
    {
     "data": {
      "text/plain": [
       "21.971"
      ]
     },
     "execution_count": 5,
     "metadata": {},
     "output_type": "execute_result"
    }
   ],
   "source": [
    "num1 = 21.971335857220122\n",
    "\n",
    "round(num1,ndigits=3)"
   ]
  },
  {
   "cell_type": "code",
   "execution_count": 9,
   "metadata": {},
   "outputs": [
    {
     "data": {
      "text/plain": [
       "'我的身高是183公分'"
      ]
     },
     "execution_count": 9,
     "metadata": {},
     "output_type": "execute_result"
    }
   ],
   "source": [
    "#字串插補(字串格式化)\n",
    "height = 183\n",
    "#字串和變數整合成為全新的字串\n",
    "f'我的身高是{height}公分'"
   ]
  },
  {
   "cell_type": "code",
   "execution_count": 10,
   "metadata": {},
   "outputs": [
    {
     "name": "stdout",
     "output_type": "stream",
     "text": [
      "您的身高:183公分\n",
      "您的體重:79公斤\n",
      "您的BMI:23.59\n"
     ]
    }
   ],
   "source": [
    "# BMI值計算公式:    BMI = 體重(公斤) / 身高2(公尺2)\n",
    "\n",
    "height = eval(input(\"請輸入身高(公分):\"))\n",
    "weight = eval(input(\"請輸入體重(公斤):\"))\n",
    "bmi = weight / (height/100) ** 2\n",
    "#利用字串插補\n",
    "print(f'您的身高:{height}公分')\n",
    "print(f'您的體重:{weight}公斤')\n",
    "print(f'您的BMI:{round(bmi,ndigits=2)}')"
   ]
  }
 ],
 "metadata": {
  "kernelspec": {
   "display_name": "Python 3",
   "language": "python",
   "name": "python3"
  },
  "language_info": {
   "codemirror_mode": {
    "name": "ipython",
    "version": 3
   },
   "file_extension": ".py",
   "mimetype": "text/x-python",
   "name": "python",
   "nbconvert_exporter": "python",
   "pygments_lexer": "ipython3",
   "version": "3.10.13"
  }
 },
 "nbformat": 4,
 "nbformat_minor": 2
}
