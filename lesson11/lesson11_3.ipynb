{
 "cells": [
  {
   "cell_type": "code",
   "execution_count": 1,
   "metadata": {},
   "outputs": [
    {
     "data": {
      "text/plain": [
       "[{'國文': 90, '數學': 88, '英文': 61},\n",
       " {'國文': 98, '數學': 85, '英文': 63},\n",
       " {'國文': 86, '數學': 99, '英文': 85},\n",
       " {'國文': 52, '數學': 52, '英文': 71},\n",
       " {'國文': 53, '數學': 58, '英文': 98},\n",
       " {'國文': 54, '數學': 66, '英文': 54},\n",
       " {'國文': 94, '數學': 67, '英文': 70},\n",
       " {'國文': 69, '數學': 87, '英文': 89},\n",
       " {'國文': 100, '數學': 75, '英文': 100},\n",
       " {'國文': 93, '數學': 62, '英文': 54}]"
      ]
     },
     "execution_count": 1,
     "metadata": {},
     "output_type": "execute_result"
    }
   ],
   "source": [
    "students = [{'國文': 90, '數學': 88, '英文': 61},\n",
    "            {'國文': 98, '數學': 85, '英文': 63},\n",
    "            {'國文': 86, '數學': 99, '英文': 85},\n",
    "            {'國文': 52, '數學': 52, '英文': 71},\n",
    "            {'國文': 53, '數學': 58, '英文': 98},\n",
    "            {'國文': 54, '數學': 66, '英文': 54},\n",
    "            {'國文': 94, '數學': 67, '英文': 70},\n",
    "            {'國文': 69, '數學': 87, '英文': 89},\n",
    "            {'國文': 100, '數學': 75, '英文': 100},\n",
    "            {'國文': 93, '數學': 62, '英文': 54}]\n",
    "students"
   ]
  },
  {
   "cell_type": "code",
   "execution_count": null,
   "metadata": {},
   "outputs": [],
   "source": [
    "import csv\n"
   ]
  }
 ],
 "metadata": {
  "kernelspec": {
   "display_name": "Python 3",
   "language": "python",
   "name": "python3"
  },
  "language_info": {
   "codemirror_mode": {
    "name": "ipython",
    "version": 3
   },
   "file_extension": ".py",
   "mimetype": "text/x-python",
   "name": "python",
   "nbconvert_exporter": "python",
   "pygments_lexer": "ipython3",
   "version": "3.10.13"
  }
 },
 "nbformat": 4,
 "nbformat_minor": 2
}
