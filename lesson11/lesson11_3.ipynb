{
 "cells": [
  {
   "cell_type": "code",
   "execution_count": 4,
   "metadata": {},
   "outputs": [
    {
     "data": {
      "text/plain": [
       "[{'國文': 90, '數學': 88, '英文': 61},\n",
       " {'國文': 98, '數學': 85, '英文': 63},\n",
       " {'國文': 86, '數學': 99, '英文': 85},\n",
       " {'國文': 52, '數學': 52, '英文': 71},\n",
       " {'國文': 53, '數學': 58, '英文': 98},\n",
       " {'國文': 54, '數學': 66, '英文': 54},\n",
       " {'國文': 94, '數學': 67, '英文': 70},\n",
       " {'國文': 69, '數學': 87, '英文': 89},\n",
       " {'國文': 100, '數學': 75, '英文': 100},\n",
       " {'國文': 100, '數學': 100, '英文': 100}]"
      ]
     },
     "execution_count": 4,
     "metadata": {},
     "output_type": "execute_result"
    }
   ],
   "source": [
    "students = [{'國文': 90, '數學': 88, '英文': 61},\n",
    "            {'國文': 98, '數學': 85, '英文': 63},\n",
    "            {'國文': 86, '數學': 99, '英文': 85},\n",
    "            {'國文': 52, '數學': 52, '英文': 71},\n",
    "            {'國文': 53, '數學': 58, '英文': 98},\n",
    "            {'國文': 54, '數學': 66, '英文': 54},\n",
    "            {'國文': 94, '數學': 67, '英文': 70},\n",
    "            {'國文': 69, '數學': 87, '英文': 89},\n",
    "            {'國文': 100, '數學': 75, '英文': 100},\n",
    "            {'國文': 100, '數學': 100, '英文': 100}]\n",
    "students"
   ]
  },
  {
   "cell_type": "code",
   "execution_count": 5,
   "metadata": {},
   "outputs": [
    {
     "name": "stdout",
     "output_type": "stream",
     "text": [
      "students.csv存檔完成\n"
     ]
    }
   ],
   "source": [
    "import csv\n",
    "\n",
    "#建立file實體,這個實體會自動close()-> with....as\n",
    "\n",
    "with open('students.csv',mode='w',encoding='utf-8',newline='') as csvfile:\n",
    "    writer = csv.DictWriter(csvfile,fieldnames=['國文','數學','英文'])\n",
    "    writer.writeheader()\n",
    "    writer.writerows(students)\n",
    "\n",
    "print('students.csv存檔完成')\n",
    "\n"
   ]
  }
 ],
 "metadata": {
  "kernelspec": {
   "display_name": "Python 3",
   "language": "python",
   "name": "python3"
  },
  "language_info": {
   "codemirror_mode": {
    "name": "ipython",
    "version": 3
   },
   "file_extension": ".py",
   "mimetype": "text/x-python",
   "name": "python",
   "nbconvert_exporter": "python",
   "pygments_lexer": "ipython3",
   "version": "3.10.13"
  }
 },
 "nbformat": 4,
 "nbformat_minor": 2
}
