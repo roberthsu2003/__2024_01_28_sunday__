{
 "cells": [
  {
   "cell_type": "code",
   "execution_count": 4,
   "metadata": {},
   "outputs": [
    {
     "name": "stdout",
     "output_type": "stream",
     "text": [
      "請輸入學生分數:"
     ]
    },
    {
     "name": "stdout",
     "output_type": "stream",
     "text": [
      "92\n",
      "優\n"
     ]
    }
   ],
   "source": [
    "#3個數值區段\n",
    "#使用巢狀判斷\n",
    "import pyinputplus as pyip\n",
    "scores = pyip.inputInt(\"請輸入學生分數:\")\n",
    "print(scores)\n",
    "if scores < 60:\n",
    "    print(\"不及格\")\n",
    "else:\n",
    "    if scores>=60 and scores<=80:\n",
    "        print(\"甲\")\n",
    "    else:\n",
    "        print(\"優\")"
   ]
  },
  {
   "cell_type": "code",
   "execution_count": 7,
   "metadata": {},
   "outputs": [
    {
     "name": "stdout",
     "output_type": "stream",
     "text": [
      "請輸入學生分數:90\n",
      "優\n"
     ]
    }
   ],
   "source": [
    "#3個數值區段\n",
    "#使用多項選擇\n",
    "import pyinputplus as pyip\n",
    "scores = pyip.inputInt(\"請輸入學生分數:\")\n",
    "print(scores)\n",
    "if scores < 60:\n",
    "    print(\"不及格\")\n",
    "elif scores>=60 and scores<=80:\n",
    "    print(\"甲\")\n",
    "else:    \n",
    "    print(\"優\")"
   ]
  }
 ],
 "metadata": {
  "kernelspec": {
   "display_name": "Python 3",
   "language": "python",
   "name": "python3"
  },
  "language_info": {
   "codemirror_mode": {
    "name": "ipython",
    "version": 3
   },
   "file_extension": ".py",
   "mimetype": "text/x-python",
   "name": "python",
   "nbconvert_exporter": "python",
   "pygments_lexer": "ipython3",
   "version": "3.10.13"
  }
 },
 "nbformat": 4,
 "nbformat_minor": 2
}
