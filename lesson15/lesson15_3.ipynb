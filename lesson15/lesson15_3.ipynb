{
 "cells": [
  {
   "cell_type": "code",
   "execution_count": 1,
   "metadata": {},
   "outputs": [
    {
     "data": {
      "text/plain": [
       "82"
      ]
     },
     "execution_count": 1,
     "metadata": {},
     "output_type": "execute_result"
    }
   ],
   "source": [
    "import random\n",
    "random.randint(50,100)"
   ]
  },
  {
   "cell_type": "code",
   "execution_count": 5,
   "metadata": {},
   "outputs": [
    {
     "data": {
      "text/plain": [
       "array([[ 68,  94,  66,  93,  83],\n",
       "       [ 78,  52,  58,  69,  62],\n",
       "       [ 55,  64,  81,  75,  91],\n",
       "       [ 51,  98,  52,  58,  90],\n",
       "       [ 94,  94,  59,  62,  55],\n",
       "       [ 58,  91,  52,  96,  63],\n",
       "       [ 54,  90,  62,  85,  99],\n",
       "       [ 87,  63,  59,  65,  54],\n",
       "       [ 71,  70,  95,  65,  84],\n",
       "       [ 52,  91,  54,  65,  96],\n",
       "       [ 61,  51,  74,  79,  82],\n",
       "       [ 63,  82,  68,  69,  70],\n",
       "       [ 84,  98,  91,  99,  93],\n",
       "       [ 67,  93,  58,  72,  75],\n",
       "       [ 95,  67,  55,  92,  78],\n",
       "       [100, 100,  83,  52,  82],\n",
       "       [ 92,  75,  97,  98,  92],\n",
       "       [ 70,  94,  61,  87,  62],\n",
       "       [ 84,  95,  88,  86,  72],\n",
       "       [ 70,  98,  88, 100,  50],\n",
       "       [ 59,  75,  67,  64,  51],\n",
       "       [ 78,  68,  69,  68,  51],\n",
       "       [ 59,  71,  83,  95,  91],\n",
       "       [ 89,  60,  93,  94,  57],\n",
       "       [ 51,  80,  68,  87,  97],\n",
       "       [ 58,  66,  57,  91,  99],\n",
       "       [ 55,  72,  79,  89, 100],\n",
       "       [ 74,  68,  85,  59,  82],\n",
       "       [ 94,  70,  54,  80,  87],\n",
       "       [ 74,  98,  55,  61,  86],\n",
       "       [ 51,  78,  78,  68,  64],\n",
       "       [ 92,  91,  93,  98,  56],\n",
       "       [ 89,  83,  64,  78,  93],\n",
       "       [ 54,  90,  86,  99,  92],\n",
       "       [ 77,  75,  58,  81,  85],\n",
       "       [ 87,  87, 100,  70,  77],\n",
       "       [ 67,  53,  83,  99,  62],\n",
       "       [ 71,  71,  91,  81,  55],\n",
       "       [ 82,  81,  75,  54,  69],\n",
       "       [ 96,  85,  74,  84,  87],\n",
       "       [ 55,  84,  95,  55,  64],\n",
       "       [ 69,  87,  52,  57,  80],\n",
       "       [ 62,  50,  59,  66,  88],\n",
       "       [ 73,  78,  54,  86,  64],\n",
       "       [ 71,  80,  79,  55,  56],\n",
       "       [ 50,  86,  69,  70,  56],\n",
       "       [ 50,  65,  59,  98,  54],\n",
       "       [ 82,  69,  98,  69,  79],\n",
       "       [ 70,  77,  84,  75,  59],\n",
       "       [ 52,  59,  72,  93,  68]])"
      ]
     },
     "execution_count": 5,
     "metadata": {},
     "output_type": "execute_result"
    }
   ],
   "source": [
    "import numpy as np\n",
    "#50學生,5個分數\n",
    "scores = np.random.randint(50, 101,size=(50,5))\n",
    "scores"
   ]
  },
  {
   "cell_type": "code",
   "execution_count": 6,
   "metadata": {},
   "outputs": [
    {
     "data": {
      "text/plain": [
       "array([68, 94, 66, 93, 83])"
      ]
     },
     "execution_count": 6,
     "metadata": {},
     "output_type": "execute_result"
    }
   ],
   "source": [
    "scores[0]"
   ]
  },
  {
   "cell_type": "code",
   "execution_count": 7,
   "metadata": {},
   "outputs": [
    {
     "data": {
      "text/plain": [
       "array([[68, 94, 66, 93, 83],\n",
       "       [78, 52, 58, 69, 62],\n",
       "       [55, 64, 81, 75, 91]])"
      ]
     },
     "execution_count": 7,
     "metadata": {},
     "output_type": "execute_result"
    }
   ],
   "source": [
    "scores[0:3]"
   ]
  },
  {
   "cell_type": "code",
   "execution_count": 8,
   "metadata": {},
   "outputs": [
    {
     "data": {
      "text/plain": [
       "array([68, 78, 55])"
      ]
     },
     "execution_count": 8,
     "metadata": {},
     "output_type": "execute_result"
    }
   ],
   "source": [
    "scores[0:3,0]"
   ]
  }
 ],
 "metadata": {
  "kernelspec": {
   "display_name": "Python 3",
   "language": "python",
   "name": "python3"
  },
  "language_info": {
   "codemirror_mode": {
    "name": "ipython",
    "version": 3
   },
   "file_extension": ".py",
   "mimetype": "text/x-python",
   "name": "python",
   "nbconvert_exporter": "python",
   "pygments_lexer": "ipython3",
   "version": "3.10.13"
  }
 },
 "nbformat": 4,
 "nbformat_minor": 2
}
