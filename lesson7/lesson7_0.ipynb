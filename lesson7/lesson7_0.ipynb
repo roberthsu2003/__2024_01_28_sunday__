{
 "cells": [
  {
   "cell_type": "code",
   "execution_count": 1,
   "metadata": {},
   "outputs": [
    {
     "name": "stdout",
     "output_type": "stream",
     "text": [
      "您的BMI是:25.18\n",
      "您的體重:過重\n",
      "應用程式結束了\n"
     ]
    }
   ],
   "source": [
    "try:\n",
    "    height = int(input('請輸入身高(公分,120-250):'))\n",
    "    weight = int(input('請輸入體重(公斤,30-250):'))\n",
    "    if (height >=120 and height <= 250) and (weight >= 30 and weight<= 250):\n",
    "        bmi = weight/(height/100)**2\n",
    "        print(f'您的BMI是:{bmi:.2f}')\n",
    "        if bmi<18.5:\n",
    "            print('您的體重:體重過輕')\n",
    "        elif bmi<24:\n",
    "            print('您的體重:正常')\n",
    "        elif bmi<27:\n",
    "            print('您的體重:過重')\n",
    "        elif bmi<30:\n",
    "            print('您的體重:輕度肥胖')\n",
    "        elif bmi<35:\n",
    "            print('您的體重:中度肥胖')\n",
    "        else:\n",
    "            print('您的體重:重度肥胖')\n",
    "    else:\n",
    "        print(\"身高或體重超出範圍\")\n",
    "except:\n",
    "    print(\"輸入的格式有問題\")\n",
    "print(\"應用程式結束了\")"
   ]
  }
 ],
 "metadata": {
  "kernelspec": {
   "display_name": "Python 3",
   "language": "python",
   "name": "python3"
  },
  "language_info": {
   "codemirror_mode": {
    "name": "ipython",
    "version": 3
   },
   "file_extension": ".py",
   "mimetype": "text/x-python",
   "name": "python",
   "nbconvert_exporter": "python",
   "pygments_lexer": "ipython3",
   "version": "3.10.13"
  }
 },
 "nbformat": 4,
 "nbformat_minor": 2
}
