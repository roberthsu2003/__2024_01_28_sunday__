{
 "cells": [
  {
   "cell_type": "code",
   "execution_count": 1,
   "metadata": {},
   "outputs": [
    {
     "data": {
      "text/plain": [
       "{'國文': 88, '英文': 80, '數學': 54, '物理': 57, '人文': 81}"
      ]
     },
     "execution_count": 1,
     "metadata": {},
     "output_type": "execute_result"
    }
   ],
   "source": [
    "#建立學生分數\n",
    "from random import randint\n",
    "stu1: dict[str,int] = {\n",
    "    '國文':randint(50,100),\n",
    "    '英文':randint(50,100),\n",
    "    '數學':randint(50,100),\n",
    "    '物理':randint(50,100),\n",
    "    '人文':randint(50,100),\n",
    "    }\n",
    "stu1"
   ]
  }
 ],
 "metadata": {
  "kernelspec": {
   "display_name": "Python 3",
   "language": "python",
   "name": "python3"
  },
  "language_info": {
   "codemirror_mode": {
    "name": "ipython",
    "version": 3
   },
   "file_extension": ".py",
   "mimetype": "text/x-python",
   "name": "python",
   "nbconvert_exporter": "python",
   "pygments_lexer": "ipython3",
   "version": "3.10.13"
  }
 },
 "nbformat": 4,
 "nbformat_minor": 2
}
