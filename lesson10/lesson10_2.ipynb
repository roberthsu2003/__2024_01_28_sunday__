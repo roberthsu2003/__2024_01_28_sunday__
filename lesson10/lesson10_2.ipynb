{
 "cells": [
  {
   "cell_type": "code",
   "execution_count": 1,
   "metadata": {},
   "outputs": [
    {
     "data": {
      "text/plain": [
       "{'國文': 88, '英文': 80, '數學': 54, '物理': 57, '人文': 81}"
      ]
     },
     "execution_count": 1,
     "metadata": {},
     "output_type": "execute_result"
    }
   ],
   "source": [
    "#建立學生分數\n",
    "from random import randint\n",
    "stu1: dict[str,int] = {\n",
    "    '國文':randint(50,100),\n",
    "    '英文':randint(50,100),\n",
    "    '數學':randint(50,100),\n",
    "    '物理':randint(50,100),\n",
    "    '人文':randint(50,100),\n",
    "    }\n",
    "stu1"
   ]
  },
  {
   "cell_type": "code",
   "execution_count": 2,
   "metadata": {},
   "outputs": [
    {
     "data": {
      "text/plain": [
       "{'國文': 82, '英文': 63, '數學': 71, '物理': 76, '人文': 89}"
      ]
     },
     "execution_count": 2,
     "metadata": {},
     "output_type": "execute_result"
    }
   ],
   "source": [
    "stu2: dict[str,int] = {} #建立空的dictionary\n",
    "for key in ['國文','英文','數學','物理','人文']:\n",
    "    stu2[key] = randint(50,100)\n",
    "stu2"
   ]
  },
  {
   "cell_type": "code",
   "execution_count": 3,
   "metadata": {},
   "outputs": [
    {
     "data": {
      "text/plain": [
       "{'國文': 82, '英文': 62, '數學': 81, '物理': 79, '人文': 70}"
      ]
     },
     "execution_count": 3,
     "metadata": {},
     "output_type": "execute_result"
    }
   ],
   "source": [
    "#dict的comprehension -> {key:value for..in.. }\n",
    "\n",
    "stu3: dict[str,int] = {key:randint(50,100) for key in ['國文','英文','數學','物理','人文']}\n",
    "stu3"
   ]
  }
 ],
 "metadata": {
  "kernelspec": {
   "display_name": "Python 3",
   "language": "python",
   "name": "python3"
  },
  "language_info": {
   "codemirror_mode": {
    "name": "ipython",
    "version": 3
   },
   "file_extension": ".py",
   "mimetype": "text/x-python",
   "name": "python",
   "nbconvert_exporter": "python",
   "pygments_lexer": "ipython3",
   "version": "3.10.13"
  }
 },
 "nbformat": 4,
 "nbformat_minor": 2
}
