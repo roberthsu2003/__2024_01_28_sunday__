{
 "cells": [
  {
   "cell_type": "code",
   "execution_count": 7,
   "metadata": {},
   "outputs": [
    {
     "name": "stdout",
     "output_type": "stream",
     "text": [
      "請輸入數字:\n",
      "'12a' is not a number.\n",
      "'23a' is not a number.\n"
     ]
    },
    {
     "data": {
      "text/plain": [
       "56"
      ]
     },
     "execution_count": 7,
     "metadata": {},
     "output_type": "execute_result"
    }
   ],
   "source": [
    "import pyinputplus as pyip\n",
    "\n",
    "print(\"請輸入數字:\")\n",
    "result = pyip.inputNum()\n",
    "result"
   ]
  },
  {
   "cell_type": "code",
   "execution_count": 8,
   "metadata": {},
   "outputs": [
    {
     "name": "stdout",
     "output_type": "stream",
     "text": [
      "Help on function inputNum in module pyinputplus:\n",
      "\n",
      "inputNum(prompt='', default=None, blank=False, timeout=None, limit=None, strip=None, allowRegexes=None, blockRegexes=None, applyFunc=None, postValidateApplyFunc=None, min=None, max=None, greaterThan=None, lessThan=None)\n",
      "    Prompts the user to enter a number, either an integer or a floating-point\n",
      "    value. Returns an int or float value (depending on if the user entered a\n",
      "    decimal in their input.)\n",
      "    \n",
      "    Run ``help(pyinputplus.parameters)`` for an explanation of the common parameters.\n",
      "    \n",
      "    * ``min`` (None, float): If not ``None``, the minimum accepted numeric value, including the minimum argument.\n",
      "    * ``max`` (None, float): If not ``None``, the maximum accepted numeric value, including the maximum argument.\n",
      "    * ``greaterThan`` (None, float): If not ``None``, the minimum accepted numeric value, not including the ``greaterThan`` argument.\n",
      "    * ``lessThan`` (None, float): If not ``None``, the maximum accepted numeric value, not including the ``lessThan`` argument.\n",
      "    \n",
      "    >>> import pyinputplus as pyip\n",
      "    >>> response = pyip.inputNum()\n",
      "    forty two\n",
      "    'forty two' is not a number.\n",
      "    42\n",
      "    >>> response\n",
      "    42\n",
      "    >>> response = pyip.inputNum()\n",
      "    9\n",
      "    >>> type(response)\n",
      "    <class 'int'>\n",
      "    >>> response = pyip.inputNum()\n",
      "    9.0\n",
      "    >>> type(response)\n",
      "    <class 'float'>\n",
      "    >>> response = pyip.inputNum(min=4)\n",
      "    3\n",
      "    Number must be at minimum 4.\n",
      "    4\n",
      "    >>> response\n",
      "    4\n",
      "    >>> response = pyip.inputNum(greaterThan=4)\n",
      "    4\n",
      "    Number must be greater than 4.\n",
      "    4.1\n",
      "    >>> response\n",
      "    4.1\n",
      "    >>> response = pyip.inputNum(limit=2)\n",
      "    dog\n",
      "    'dog' is not a number.\n",
      "    cat\n",
      "    'cat' is not a number.\n",
      "    Traceback (most recent call last):\n",
      "        ...\n",
      "    pyinputplus.RetryLimitException\n",
      "\n"
     ]
    }
   ],
   "source": [
    "help(pyip.inputNum)"
   ]
  },
  {
   "cell_type": "code",
   "execution_count": 12,
   "metadata": {},
   "outputs": [
    {
     "name": "stdout",
     "output_type": "stream",
     "text": [
      "請輸入數字:"
     ]
    },
    {
     "name": "stdout",
     "output_type": "stream",
     "text": [
      "Number must be at maximum 300.\n",
      "請輸入數字:Number must be at maximum 300.\n",
      "請輸入數字:250\n"
     ]
    }
   ],
   "source": [
    "value = pyip.inputNum(prompt=\"請輸入數字:\",min=0,max=300)\n",
    "print(value)"
   ]
  }
 ],
 "metadata": {
  "kernelspec": {
   "display_name": "Python 3",
   "language": "python",
   "name": "python3"
  },
  "language_info": {
   "codemirror_mode": {
    "name": "ipython",
    "version": 3
   },
   "file_extension": ".py",
   "mimetype": "text/x-python",
   "name": "python",
   "nbconvert_exporter": "python",
   "pygments_lexer": "ipython3",
   "version": "3.10.13"
  }
 },
 "nbformat": 4,
 "nbformat_minor": 2
}
