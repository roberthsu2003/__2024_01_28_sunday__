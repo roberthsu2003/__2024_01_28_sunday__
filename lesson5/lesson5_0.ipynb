{
 "cells": [
  {
   "cell_type": "code",
   "execution_count": 1,
   "metadata": {},
   "outputs": [
    {
     "name": "stdout",
     "output_type": "stream",
     "text": [
      "是貓\n"
     ]
    }
   ],
   "source": [
    "#作業\n",
    "#判斷動物\n",
    "is_furry=input(\"請問動物有毛嗎?(y/n)\")\n",
    "is_small=input(\"請問動物是小的嗎?(y/n)\")\n",
    "#如果動物是有毛且小\n",
    "if is_furry == 'y':\n",
    "    if is_small=='y':\n",
    "        print(\"是貓\")\n",
    "    else:\n",
    "        print(\"是熊\")\n",
    "else:\n",
    "    if is_small== 'y':\n",
    "        print(\"是小蜥蜴\")\n",
    "    else:\n",
    "        print(\"是人或無毛熊\")"
   ]
  }
 ],
 "metadata": {
  "kernelspec": {
   "display_name": "Python 3",
   "language": "python",
   "name": "python3"
  },
  "language_info": {
   "codemirror_mode": {
    "name": "ipython",
    "version": 3
   },
   "file_extension": ".py",
   "mimetype": "text/x-python",
   "name": "python",
   "nbconvert_exporter": "python",
   "pygments_lexer": "ipython3",
   "version": "3.10.13"
  }
 },
 "nbformat": 4,
 "nbformat_minor": 2
}
